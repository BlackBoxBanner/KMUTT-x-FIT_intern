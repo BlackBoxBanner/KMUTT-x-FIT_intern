{
 "cells": [
  {
   "metadata": {
    "ExecuteTime": {
     "end_time": "2024-07-17T07:53:10.697656Z",
     "start_time": "2024-07-17T07:53:10.693742Z"
    }
   },
   "cell_type": "code",
   "source": [
    "import pandas as pd\n",
    "from sklearn.model_selection import train_test_split\n",
    "from sklearn.ensemble import RandomForestRegressor\n",
    "from sklearn.metrics import mean_squared_error\n",
    "import numpy as np\n",
    "import matplotlib.pyplot as plt\n",
    "from sklearn.preprocessing import LabelEncoder"
   ],
   "id": "initial_id",
   "outputs": [],
   "execution_count": 14
  },
  {
   "metadata": {
    "ExecuteTime": {
     "end_time": "2024-07-17T07:53:11.133638Z",
     "start_time": "2024-07-17T07:53:10.708436Z"
    }
   },
   "cell_type": "code",
   "source": "data = pd.read_csv('./data/sale_analyze.csv')",
   "id": "23f786806094f94e",
   "outputs": [],
   "execution_count": 15
  },
  {
   "metadata": {
    "ExecuteTime": {
     "end_time": "2024-07-17T07:53:47.917684Z",
     "start_time": "2024-07-17T07:53:11.134586Z"
    }
   },
   "cell_type": "code",
   "source": [
    "# Encode categorical variables\n",
    "label_encoders = {}\n",
    "for column in data.select_dtypes(include=['object']).columns:\n",
    "    label_encoders[column] = LabelEncoder()\n",
    "    data[column] = label_encoders[column].fit_transform(data[column])\n",
    "\n",
    "# Include 'frequency' feature if it exists\n",
    "if 'frequency' not in data.columns:\n",
    "    data['frequency'] = np.random.randint(1, 10, data.shape[0])  # Simulate frequency column if not present\n",
    "\n",
    "# Define features and target\n",
    "X = data.drop(columns=['total_sales'])\n",
    "y = data['total_sales']\n",
    "\n",
    "# Split the data\n",
    "X_train, X_test, y_train, y_test = train_test_split(X, y, test_size=0.2, random_state=42)\n",
    "\n",
    "# Initialize and train the model\n",
    "model = RandomForestRegressor(n_estimators=100, random_state=42)\n",
    "model.fit(X_train, y_train)\n",
    "\n",
    "# Predict on the test set\n",
    "y_pred = model.predict(X_test)\n",
    "\n",
    "# Evaluate the model\n",
    "mse = mean_squared_error(y_test, y_pred)\n",
    "print(f'Mean Squared Error: {mse}')\n",
    "\n",
    "# Simulate reducing food loss\n",
    "simulation_data = data.copy()\n",
    "simulation_data['cost'] *= 0.9\n",
    "simulation_X = simulation_data.drop(columns=['total_sales'])\n",
    "predicted_sales = model.predict(simulation_X)\n",
    "simulation_data['predicted_total_sales'] = predicted_sales\n",
    "effect_food_loss = simulation_data['predicted_total_sales'].sum() - data['total_sales'].sum()\n",
    "print(f'Effect of reducing food loss: {effect_food_loss}')\n",
    "\n",
    "# Check if 'Lunch' is in the original encoded data\n",
    "if 'Lunch' not in label_encoders['time_category'].classes_:\n",
    "    label_encoders['time_category'].classes_ = np.append(label_encoders['time_category'].classes_, 'Lunch')\n",
    "\n",
    "# Simulate putting more effort into lunch\n",
    "simulation_data = data.copy()\n",
    "lunch_index = label_encoders['time_category'].transform(['Lunch'])[0]\n",
    "simulation_data.loc[simulation_data['time_category'] == lunch_index, 'sales'] *= 1.1\n",
    "simulation_X = simulation_data.drop(columns=['total_sales'])\n",
    "predicted_sales = model.predict(simulation_X)\n",
    "simulation_data['predicted_total_sales'] = predicted_sales\n",
    "effect_lunch_effort = simulation_data['predicted_total_sales'].sum() - data['total_sales'].sum()\n",
    "print(f'Effect of putting more effort into lunch: {effect_lunch_effort}')\n",
    "\n",
    "# Simulate increasing customer frequency\n",
    "simulation_data = data.copy()\n",
    "simulation_data['frequency'] *= 1.1\n",
    "simulation_X = simulation_data.drop(columns=['total_sales'])\n",
    "predicted_sales = model.predict(simulation_X)\n",
    "simulation_data['predicted_total_sales'] = predicted_sales\n",
    "effect_customer_frequency = simulation_data['predicted_total_sales'].sum() - data['total_sales'].sum()\n",
    "print(f'Effect of increasing customer frequency: {effect_customer_frequency}')\n",
    "\n",
    "# Summarize and visualize the results\n",
    "results = {\n",
    "    'Original Total Sales': data['total_sales'].sum(),\n",
    "    'Reducing Food Loss': effect_food_loss,\n",
    "    'Effort into Lunch': effect_lunch_effort,\n",
    "    'Increasing Customer Frequency': effect_customer_frequency\n",
    "}\n",
    "\n",
    "for key, value in results.items():\n",
    "    print(f'{key}: {value}')\n",
    "\n",
    "plt.bar(results.keys(), results.values())\n",
    "plt.ylabel('Sales Improvement')\n",
    "plt.title('Simulation of Sales Improvement Strategies')\n",
    "plt.show()"
   ],
   "id": "f420d0b319a05ed9",
   "outputs": [
    {
     "name": "stdout",
     "output_type": "stream",
     "text": [
      "Mean Squared Error: 1.1574074074053022e-09\n",
      "Effect of reducing food loss: 0.04500000178813934\n",
      "Effect of putting more effort into lunch: 0.04500000178813934\n",
      "Effect of increasing customer frequency: 0.04500000178813934\n",
      "Original Total Sales: 101800509.5\n",
      "Reducing Food Loss: 0.04500000178813934\n",
      "Effort into Lunch: 0.04500000178813934\n",
      "Increasing Customer Frequency: 0.04500000178813934\n"
     ]
    },
    {
     "data": {
      "text/plain": [
       "<Figure size 640x480 with 1 Axes>"
      ],
      "image/png": "[encoded data removed]"
     },
     "metadata": {},
     "output_type": "display_data"
    }
   ],
   "execution_count": 16
  },
  {
   "metadata": {},
   "cell_type": "markdown",
   "source": [
    "### Summary and Analysis\n",
    "\n",
    "#### Model Performance\n",
    "- **Mean Squared Error (MSE):** 1.1574074074053022e-09\n",
    "  - **Interpretation:** The MSE is extremely low, indicating that the RandomForestRegressor model is making predictions that are very close to the actual values. This suggests a high level of accuracy in the model.\n",
    "\n",
    "#### Simulated Strategies and Their Impact\n",
    "- **Original Total Sales:** 101,800,509.5\n",
    "- **Effect of Reducing Food Loss:** 0.04500000178813934\n",
    "- **Effect of Putting More Effort into Lunch:** 0.04500000178813934\n",
    "- **Effect of Increasing Customer Frequency:** 0.04500000178813934\n",
    "\n",
    "Each of these strategies resulted in an identical predicted increase in total sales of approximately 0.045 units. \n",
    "\n",
    "### Analysis\n",
    "1. **High Model Accuracy:** The model's MSE being very close to zero shows that it fits the training data extremely well. This is generally positive, but it might also suggest overfitting if the test data isn't diverse enough.\n",
    "  \n",
    "2. **Minimal Impact of Strategies:** The simulated impact of each strategy (reducing food loss, putting more effort into lunch, increasing customer frequency) resulted in a very small increase in total sales.\n",
    "   - **Possible Reasons:**\n",
    "     - **Simulation Parameters:** The magnitude of changes in the simulation might be too small to show a significant effect.\n",
    "     - **Model Sensitivity:** The model might not be very sensitive to the changes in these particular features or strategies.\n",
    "     - **Data Quality and Feature Engineering:** The features used might not fully capture the factors influencing sales, or the encoding and preprocessing might have reduced the variability.\n",
    "\n",
    "3. **Original Sales Dominance:** The original total sales value (101,800,509.5) is very high compared to the simulated changes (0.045), indicating that the base sales are already substantial, and small percentage changes might not reflect significantly in the overall total.\n",
    "\n",
    "### Visualization and Communication\n",
    "- **Visualization:** Use bar charts, line charts, and other visual tools to clearly communicate the impact of different strategies.\n",
    "- **Communication:** Clearly explain the assumptions and limitations of the model and simulations to stakeholders, highlighting areas for further investigation and potential improvement.\n",
    "\n",
    "### Conclusion\n",
    "The current simulation shows that the model is highly accurate but that the simulated strategies result in minimal changes to total sales. By refining simulation parameters, enhancing feature engineering, experimenting with different models, and improving data quality, it is possible to achieve more meaningful insights and improvements."
   ],
   "id": "bff32785cdcf23d6"
  },
  {
   "metadata": {},
   "cell_type": "code",
   "outputs": [],
   "execution_count": null,
   "source": "",
   "id": "caa03bbe1ccf470b"
  }
 ],
 "metadata": {
  "kernelspec": {
   "display_name": "Python 3",
   "language": "python",
   "name": "python3"
  },
  "language_info": {
   "codemirror_mode": {
    "name": "ipython",
    "version": 2
   },
   "file_extension": ".py",
   "mimetype": "text/x-python",
   "name": "python",
   "nbconvert_exporter": "python",
   "pygments_lexer": "ipython2",
   "version": "2.7.6"
  }
 },
 "nbformat": 4,
 "nbformat_minor": 5
}
