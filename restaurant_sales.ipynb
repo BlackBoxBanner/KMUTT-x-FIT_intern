{
 "cells": [
  {
   "metadata": {},
   "cell_type": "markdown",
   "source": "import section",
   "id": "d76e7831a64610fe"
  },
  {
   "metadata": {
    "ExecuteTime": {
     "end_time": "2024-06-27T09:13:03.071561Z",
     "start_time": "2024-06-27T09:13:02.259585Z"
    }
   },
   "cell_type": "code",
   "source": [
    "import pandas as pd\n",
    "from pandas import DataFrame\n",
    "import ast\n",
    "import matplotlib.pyplot as plt\n",
    "import scipy.stats as stats"
   ],
   "id": "10a73eae1821e98",
   "outputs": [],
   "execution_count": 1
  },
  {
   "metadata": {
    "ExecuteTime": {
     "end_time": "2024-06-27T09:13:03.192489Z",
     "start_time": "2024-06-27T09:13:03.072710Z"
    }
   },
   "cell_type": "code",
   "source": [
    "# Load the sales data\n",
    "sales_df = pd.read_csv('data/sale.csv', sep=',')\n",
    "\n",
    "# Load the menu data\n",
    "menu_df = pd.read_csv('data/menus.csv', sep=',')\n",
    "\n",
    "# Load the add-on data\n",
    "add_on_df = pd.read_csv('data/add-on.csv', sep=',')\n",
    "\n",
    "# Check basic info of each dataframe\n",
    "menu_df.info(), sales_df.info(), add_on_df.info()"
   ],
   "id": "bb852593384cf751",
   "outputs": [
    {
     "name": "stdout",
     "output_type": "stream",
     "text": [
      "<class 'pandas.core.frame.DataFrame'>\n",
      "RangeIndex: 48 entries, 0 to 47\n",
      "Data columns (total 5 columns):\n",
      " #   Column       Non-Null Count  Dtype  \n",
      "---  ------       --------------  -----  \n",
      " 0   uuid         48 non-null     object \n",
      " 1   name         48 non-null     object \n",
      " 2   category     48 non-null     object \n",
      " 3   price        48 non-null     float64\n",
      " 4   description  48 non-null     object \n",
      "dtypes: float64(1), object(4)\n",
      "memory usage: 2.0+ KB\n",
      "<class 'pandas.core.frame.DataFrame'>\n",
      "RangeIndex: 108000 entries, 0 to 107999\n",
      "Data columns (total 4 columns):\n",
      " #   Column     Non-Null Count   Dtype \n",
      "---  ------     --------------   ----- \n",
      " 0   uuid       108000 non-null  object\n",
      " 1   date_time  108000 non-null  object\n",
      " 2   menu_item  108000 non-null  object\n",
      " 3   add_ons    108000 non-null  object\n",
      "dtypes: object(4)\n",
      "memory usage: 3.3+ MB\n",
      "<class 'pandas.core.frame.DataFrame'>\n",
      "RangeIndex: 46 entries, 0 to 45\n",
      "Data columns (total 4 columns):\n",
      " #   Column  Non-Null Count  Dtype  \n",
      "---  ------  --------------  -----  \n",
      " 0   uuid    46 non-null     object \n",
      " 1   menu    46 non-null     object \n",
      " 2   name    46 non-null     object \n",
      " 3   price   46 non-null     float64\n",
      "dtypes: float64(1), object(3)\n",
      "memory usage: 1.6+ KB\n"
     ]
    },
    {
     "data": {
      "text/plain": [
       "(None, None, None)"
      ]
     },
     "execution_count": 2,
     "metadata": {},
     "output_type": "execute_result"
    }
   ],
   "execution_count": 2
  },
  {
   "metadata": {},
   "cell_type": "markdown",
   "source": "Additional function",
   "id": "65cb8cd507353e3e"
  },
  {
   "metadata": {
    "ExecuteTime": {
     "end_time": "2024-06-27T09:13:03.195454Z",
     "start_time": "2024-06-27T09:13:03.193182Z"
    }
   },
   "cell_type": "code",
   "source": [
    "# Function to calculate the total price of add-ons\n",
    "def calculate_addon_price(addons, addons_df: DataFrame) -> float:\n",
    "    addons_list = ast.literal_eval(addons)  # Convert the string representation of list to actual list\n",
    "    total_price = 0\n",
    "    for addon in addons_list:\n",
    "        price = addons_df.loc[addons_df['name'] == addon, 'price']\n",
    "        if not price.empty:\n",
    "            total_price += price.values[0]\n",
    "    return total_price"
   ],
   "id": "40e36d48fba570f9",
   "outputs": [],
   "execution_count": 3
  },
  {
   "metadata": {},
   "cell_type": "markdown",
   "source": "Preparation section",
   "id": "3ec083e19b32db65"
  },
  {
   "metadata": {
    "ExecuteTime": {
     "end_time": "2024-06-27T09:13:03.200597Z",
     "start_time": "2024-06-27T09:13:03.196177Z"
    }
   },
   "cell_type": "code",
   "source": [
    "# Preprocess menu_df\n",
    "menu_df['price'] = menu_df['price'].astype(float)  # Ensure price is of type float\n",
    "menu_df = menu_df.drop(columns=['uuid', 'description'])  # Drop unnecessary columns\n",
    "menu_df = menu_df.rename(columns={'name': 'menu_name'})  # Rename column for consistency\n",
    "menu_df = menu_df.dropna(axis=0, how='any')  # Drop rows with any NaN values\n",
    "menu_df.info()"
   ],
   "id": "68ac1ae42b9b2005",
   "outputs": [
    {
     "name": "stdout",
     "output_type": "stream",
     "text": [
      "<class 'pandas.core.frame.DataFrame'>\n",
      "RangeIndex: 48 entries, 0 to 47\n",
      "Data columns (total 3 columns):\n",
      " #   Column     Non-Null Count  Dtype  \n",
      "---  ------     --------------  -----  \n",
      " 0   menu_name  48 non-null     object \n",
      " 1   category   48 non-null     object \n",
      " 2   price      48 non-null     float64\n",
      "dtypes: float64(1), object(2)\n",
      "memory usage: 1.3+ KB\n"
     ]
    }
   ],
   "execution_count": 4
  },
  {
   "metadata": {
    "ExecuteTime": {
     "end_time": "2024-06-27T09:13:03.284150Z",
     "start_time": "2024-06-27T09:13:03.202062Z"
    }
   },
   "cell_type": "code",
   "source": [
    "# Preprocess sales_df\n",
    "sales_df = sales_df.drop(columns=['uuid'])  # Drop unnecessary columns\n",
    "sales_df = sales_df.rename(columns={'menu_item': 'menu_name'})  # Rename column for consistency\n",
    "sales_df = sales_df.sort_values('date_time', ascending=True).reset_index(drop=True)  # Sort by date_time and reset index\n",
    "sales_df = sales_df.dropna(axis=0, how='any')  # Drop rows with any NaN values\n",
    "sales_df.info()"
   ],
   "id": "290f61b22a910d5b",
   "outputs": [
    {
     "name": "stdout",
     "output_type": "stream",
     "text": [
      "<class 'pandas.core.frame.DataFrame'>\n",
      "RangeIndex: 108000 entries, 0 to 107999\n",
      "Data columns (total 3 columns):\n",
      " #   Column     Non-Null Count   Dtype \n",
      "---  ------     --------------   ----- \n",
      " 0   date_time  108000 non-null  object\n",
      " 1   menu_name  108000 non-null  object\n",
      " 2   add_ons    108000 non-null  object\n",
      "dtypes: object(3)\n",
      "memory usage: 2.5+ MB\n"
     ]
    }
   ],
   "execution_count": 5
  },
  {
   "metadata": {
    "ExecuteTime": {
     "end_time": "2024-06-27T09:13:03.289478Z",
     "start_time": "2024-06-27T09:13:03.285207Z"
    }
   },
   "cell_type": "code",
   "source": [
    "# Preprocess add_on_df\n",
    "add_on_df = add_on_df.drop(columns=['uuid'])  # Drop unnecessary columns\n",
    "add_on_df = add_on_df.dropna(axis=0, how='any')  # Drop rows with any NaN values\n",
    "add_on_df.info()"
   ],
   "id": "c7f9fbd846657bcc",
   "outputs": [
    {
     "name": "stdout",
     "output_type": "stream",
     "text": [
      "<class 'pandas.core.frame.DataFrame'>\n",
      "RangeIndex: 46 entries, 0 to 45\n",
      "Data columns (total 3 columns):\n",
      " #   Column  Non-Null Count  Dtype  \n",
      "---  ------  --------------  -----  \n",
      " 0   menu    46 non-null     object \n",
      " 1   name    46 non-null     object \n",
      " 2   price   46 non-null     float64\n",
      "dtypes: float64(1), object(2)\n",
      "memory usage: 1.2+ KB\n"
     ]
    }
   ],
   "execution_count": 6
  },
  {
   "metadata": {
    "ExecuteTime": {
     "end_time": "2024-06-27T09:13:05.052853Z",
     "start_time": "2024-06-27T09:13:03.290230Z"
    }
   },
   "cell_type": "code",
   "source": [
    "# Merge dataframes\n",
    "merged_df = pd.merge(menu_df, sales_df, on='menu_name', how='inner')  # Merge menu and sales data on menu_name\n",
    "merged_df = merged_df.dropna(axis=0, how='any')  # Drop rows with any NaN values\n",
    "merged_df[\"date_time\"] = pd.to_datetime(merged_df[\"date_time\"])  # Convert date_time to datetime format\n",
    "merged_df = merged_df.sort_values(by='date_time', ascending=True).reset_index(\n",
    "    drop=True)  # Sort by date_time and reset index\n",
    "merged_df[\"date\"] = merged_df[\"date_time\"].dt.strftime(\"%Y-%m-%d\")  # Extract date\n",
    "merged_df[\"time\"] = merged_df[\"date_time\"].dt.strftime(\"%H:%M\")  # Extract time\n",
    "merged_df = merged_df.drop(columns=[\"date_time\"])  # Drop the original date_time column\n",
    "merged_df[\"add_ons_price\"] = merged_df[\"add_ons\"].apply(\n",
    "    lambda x: calculate_addon_price(x, add_on_df))  # Calculate add_ons_price\n",
    "merged_df[\"total_price\"] = merged_df[\"add_ons_price\"] + merged_df[\"price\"]  # Calculate total price\n",
    "merged_df.info()"
   ],
   "id": "79584f3d4c22b722",
   "outputs": [
    {
     "name": "stdout",
     "output_type": "stream",
     "text": [
      "<class 'pandas.core.frame.DataFrame'>\n",
      "RangeIndex: 108000 entries, 0 to 107999\n",
      "Data columns (total 8 columns):\n",
      " #   Column         Non-Null Count   Dtype  \n",
      "---  ------         --------------   -----  \n",
      " 0   menu_name      108000 non-null  object \n",
      " 1   category       108000 non-null  object \n",
      " 2   price          108000 non-null  float64\n",
      " 3   add_ons        108000 non-null  object \n",
      " 4   date           108000 non-null  object \n",
      " 5   time           108000 non-null  object \n",
      " 6   add_ons_price  108000 non-null  float64\n",
      " 7   total_price    108000 non-null  float64\n",
      "dtypes: float64(3), object(5)\n",
      "memory usage: 6.6+ MB\n"
     ]
    }
   ],
   "execution_count": 7
  },
  {
   "metadata": {
    "ExecuteTime": {
     "end_time": "2024-06-27T09:13:05.066234Z",
     "start_time": "2024-06-27T09:13:05.053563Z"
    }
   },
   "cell_type": "code",
   "source": [
    "# Check for missing values\n",
    "missing_values = merged_df.isnull().sum()\n",
    "print(missing_values)"
   ],
   "id": "37d2b7193f128182",
   "outputs": [
    {
     "name": "stdout",
     "output_type": "stream",
     "text": [
      "menu_name        0\n",
      "category         0\n",
      "price            0\n",
      "add_ons          0\n",
      "date             0\n",
      "time             0\n",
      "add_ons_price    0\n",
      "total_price      0\n",
      "dtype: int64\n"
     ]
    }
   ],
   "execution_count": 8
  },
  {
   "metadata": {
    "ExecuteTime": {
     "end_time": "2024-06-27T09:13:05.073025Z",
     "start_time": "2024-06-27T09:13:05.066811Z"
    }
   },
   "cell_type": "code",
   "source": [
    "# Display the first few rows of the final merged dataframe\n",
    "merged_df.head()"
   ],
   "id": "944384a21330b5c2",
   "outputs": [
    {
     "data": {
      "text/plain": [
       "                                    menu_name               category  price  \\\n",
       "0                                Ham & cheese  Toasties On Sourdough    7.0   \n",
       "1  Chicken, beef & pork or vegan sausage roll    House Made Pastries    7.0   \n",
       "2                               Hot Chocolate               Beverage    4.0   \n",
       "3                                       Mocha               Beverage    5.0   \n",
       "4                             CHILLI SCRAMBLE      All day breakfast   18.0   \n",
       "\n",
       "  add_ons        date   time  add_ons_price  total_price  \n",
       "0      []  2021-07-13  07:05            0.0          7.0  \n",
       "1      []  2021-07-13  07:06            0.0          7.0  \n",
       "2      []  2021-07-13  07:07            0.0          4.0  \n",
       "3      []  2021-07-13  07:08            0.0          5.0  \n",
       "4      []  2021-07-13  07:08            0.0         18.0  "
      ],
      "text/html": [
       "<div>\n",
       "<style scoped>\n",
       "    .dataframe tbody tr th:only-of-type {\n",
       "        vertical-align: middle;\n",
       "    }\n",
       "\n",
       "    .dataframe tbody tr th {\n",
       "        vertical-align: top;\n",
       "    }\n",
       "\n",
       "    .dataframe thead th {\n",
       "        text-align: right;\n",
       "    }\n",
       "</style>\n",
       "<table border=\"1\" class=\"dataframe\">\n",
       "  <thead>\n",
       "    <tr style=\"text-align: right;\">\n",
       "      <th></th>\n",
       "      <th>menu_name</th>\n",
       "      <th>category</th>\n",
       "      <th>price</th>\n",
       "      <th>add_ons</th>\n",
       "      <th>date</th>\n",
       "      <th>time</th>\n",
       "      <th>add_ons_price</th>\n",
       "      <th>total_price</th>\n",
       "    </tr>\n",
       "  </thead>\n",
       "  <tbody>\n",
       "    <tr>\n",
       "      <th>0</th>\n",
       "      <td>Ham &amp; cheese</td>\n",
       "      <td>Toasties On Sourdough</td>\n",
       "      <td>7.0</td>\n",
       "      <td>[]</td>\n",
       "      <td>2021-07-13</td>\n",
       "      <td>07:05</td>\n",
       "      <td>0.0</td>\n",
       "      <td>7.0</td>\n",
       "    </tr>\n",
       "    <tr>\n",
       "      <th>1</th>\n",
       "      <td>Chicken, beef &amp; pork or vegan sausage roll</td>\n",
       "      <td>House Made Pastries</td>\n",
       "      <td>7.0</td>\n",
       "      <td>[]</td>\n",
       "      <td>2021-07-13</td>\n",
       "      <td>07:06</td>\n",
       "      <td>0.0</td>\n",
       "      <td>7.0</td>\n",
       "    </tr>\n",
       "    <tr>\n",
       "      <th>2</th>\n",
       "      <td>Hot Chocolate</td>\n",
       "      <td>Beverage</td>\n",
       "      <td>4.0</td>\n",
       "      <td>[]</td>\n",
       "      <td>2021-07-13</td>\n",
       "      <td>07:07</td>\n",
       "      <td>0.0</td>\n",
       "      <td>4.0</td>\n",
       "    </tr>\n",
       "    <tr>\n",
       "      <th>3</th>\n",
       "      <td>Mocha</td>\n",
       "      <td>Beverage</td>\n",
       "      <td>5.0</td>\n",
       "      <td>[]</td>\n",
       "      <td>2021-07-13</td>\n",
       "      <td>07:08</td>\n",
       "      <td>0.0</td>\n",
       "      <td>5.0</td>\n",
       "    </tr>\n",
       "    <tr>\n",
       "      <th>4</th>\n",
       "      <td>CHILLI SCRAMBLE</td>\n",
       "      <td>All day breakfast</td>\n",
       "      <td>18.0</td>\n",
       "      <td>[]</td>\n",
       "      <td>2021-07-13</td>\n",
       "      <td>07:08</td>\n",
       "      <td>0.0</td>\n",
       "      <td>18.0</td>\n",
       "    </tr>\n",
       "  </tbody>\n",
       "</table>\n",
       "</div>"
      ]
     },
     "execution_count": 9,
     "metadata": {},
     "output_type": "execute_result"
    }
   ],
   "execution_count": 9
  },
  {
   "metadata": {},
   "cell_type": "markdown",
   "source": [
    "**Analysis section**\n",
    "\n",
    "---"
   ],
   "id": "f28735e78325942"
  },
  {
   "metadata": {
    "ExecuteTime": {
     "end_time": "2024-06-27T09:13:05.076802Z",
     "start_time": "2024-06-27T09:13:05.073670Z"
    }
   },
   "cell_type": "code",
   "source": [
    "# Analyze merged_df for negative prices\n",
    "negative_price = merged_df[merged_df['price'] < 0]\n",
    "negative_add_ons_price = merged_df[merged_df['add_ons_price'] < 0]\n",
    "negative_total_price = merged_df[merged_df['total_price'] < 0]\n",
    "\n",
    "# Display dataframes with negative values\n",
    "print(negative_price)\n",
    "print(negative_add_ons_price)\n",
    "print(negative_total_price)"
   ],
   "id": "c565eec36d38b93d",
   "outputs": [
    {
     "name": "stdout",
     "output_type": "stream",
     "text": [
      "Empty DataFrame\n",
      "Columns: [menu_name, category, price, add_ons, date, time, add_ons_price, total_price]\n",
      "Index: []\n",
      "Empty DataFrame\n",
      "Columns: [menu_name, category, price, add_ons, date, time, add_ons_price, total_price]\n",
      "Index: []\n",
      "Empty DataFrame\n",
      "Columns: [menu_name, category, price, add_ons, date, time, add_ons_price, total_price]\n",
      "Index: []\n"
     ]
    }
   ],
   "execution_count": 10
  },
  {
   "metadata": {
    "ExecuteTime": {
     "end_time": "2024-06-27T09:13:05.081053Z",
     "start_time": "2024-06-27T09:13:05.077406Z"
    }
   },
   "cell_type": "code",
   "source": [
    "# Display first few rows and summary statistics of add_on_df\n",
    "add_on_df.head()"
   ],
   "id": "d9816e7f369aa628",
   "outputs": [
    {
     "data": {
      "text/plain": [
       "              menu         name  price\n",
       "0  Sparkling Water          Ice    0.0\n",
       "1  Sparkling Water  Lemon Slice    0.5\n",
       "2  Sparkling Water   Lime Slice    0.5\n",
       "3             Cola          Ice    0.0\n",
       "4             Cola  Lemon Slice    0.5"
      ],
      "text/html": [
       "<div>\n",
       "<style scoped>\n",
       "    .dataframe tbody tr th:only-of-type {\n",
       "        vertical-align: middle;\n",
       "    }\n",
       "\n",
       "    .dataframe tbody tr th {\n",
       "        vertical-align: top;\n",
       "    }\n",
       "\n",
       "    .dataframe thead th {\n",
       "        text-align: right;\n",
       "    }\n",
       "</style>\n",
       "<table border=\"1\" class=\"dataframe\">\n",
       "  <thead>\n",
       "    <tr style=\"text-align: right;\">\n",
       "      <th></th>\n",
       "      <th>menu</th>\n",
       "      <th>name</th>\n",
       "      <th>price</th>\n",
       "    </tr>\n",
       "  </thead>\n",
       "  <tbody>\n",
       "    <tr>\n",
       "      <th>0</th>\n",
       "      <td>Sparkling Water</td>\n",
       "      <td>Ice</td>\n",
       "      <td>0.0</td>\n",
       "    </tr>\n",
       "    <tr>\n",
       "      <th>1</th>\n",
       "      <td>Sparkling Water</td>\n",
       "      <td>Lemon Slice</td>\n",
       "      <td>0.5</td>\n",
       "    </tr>\n",
       "    <tr>\n",
       "      <th>2</th>\n",
       "      <td>Sparkling Water</td>\n",
       "      <td>Lime Slice</td>\n",
       "      <td>0.5</td>\n",
       "    </tr>\n",
       "    <tr>\n",
       "      <th>3</th>\n",
       "      <td>Cola</td>\n",
       "      <td>Ice</td>\n",
       "      <td>0.0</td>\n",
       "    </tr>\n",
       "    <tr>\n",
       "      <th>4</th>\n",
       "      <td>Cola</td>\n",
       "      <td>Lemon Slice</td>\n",
       "      <td>0.5</td>\n",
       "    </tr>\n",
       "  </tbody>\n",
       "</table>\n",
       "</div>"
      ]
     },
     "execution_count": 11,
     "metadata": {},
     "output_type": "execute_result"
    }
   ],
   "execution_count": 11
  },
  {
   "metadata": {
    "ExecuteTime": {
     "end_time": "2024-06-27T09:13:05.085839Z",
     "start_time": "2024-06-27T09:13:05.081763Z"
    }
   },
   "cell_type": "code",
   "source": "add_on_df.describe()",
   "id": "15d867ebdc3ca3dd",
   "outputs": [
    {
     "data": {
      "text/plain": [
       "           price\n",
       "count  46.000000\n",
       "mean    1.380435\n",
       "std     1.539065\n",
       "min     0.000000\n",
       "25%     0.500000\n",
       "50%     0.500000\n",
       "75%     2.500000\n",
       "max     4.500000"
      ],
      "text/html": [
       "<div>\n",
       "<style scoped>\n",
       "    .dataframe tbody tr th:only-of-type {\n",
       "        vertical-align: middle;\n",
       "    }\n",
       "\n",
       "    .dataframe tbody tr th {\n",
       "        vertical-align: top;\n",
       "    }\n",
       "\n",
       "    .dataframe thead th {\n",
       "        text-align: right;\n",
       "    }\n",
       "</style>\n",
       "<table border=\"1\" class=\"dataframe\">\n",
       "  <thead>\n",
       "    <tr style=\"text-align: right;\">\n",
       "      <th></th>\n",
       "      <th>price</th>\n",
       "    </tr>\n",
       "  </thead>\n",
       "  <tbody>\n",
       "    <tr>\n",
       "      <th>count</th>\n",
       "      <td>46.000000</td>\n",
       "    </tr>\n",
       "    <tr>\n",
       "      <th>mean</th>\n",
       "      <td>1.380435</td>\n",
       "    </tr>\n",
       "    <tr>\n",
       "      <th>std</th>\n",
       "      <td>1.539065</td>\n",
       "    </tr>\n",
       "    <tr>\n",
       "      <th>min</th>\n",
       "      <td>0.000000</td>\n",
       "    </tr>\n",
       "    <tr>\n",
       "      <th>25%</th>\n",
       "      <td>0.500000</td>\n",
       "    </tr>\n",
       "    <tr>\n",
       "      <th>50%</th>\n",
       "      <td>0.500000</td>\n",
       "    </tr>\n",
       "    <tr>\n",
       "      <th>75%</th>\n",
       "      <td>2.500000</td>\n",
       "    </tr>\n",
       "    <tr>\n",
       "      <th>max</th>\n",
       "      <td>4.500000</td>\n",
       "    </tr>\n",
       "  </tbody>\n",
       "</table>\n",
       "</div>"
      ]
     },
     "execution_count": 12,
     "metadata": {},
     "output_type": "execute_result"
    }
   ],
   "execution_count": 12
  },
  {
   "metadata": {
    "ExecuteTime": {
     "end_time": "2024-06-27T09:13:05.089333Z",
     "start_time": "2024-06-27T09:13:05.086497Z"
    }
   },
   "cell_type": "code",
   "source": [
    "# Count occurrences of each menu in add_on_df\n",
    "menu_counts = add_on_df['menu']\n",
    "menu_counts.value_counts()"
   ],
   "id": "6ab638477b5e60c1",
   "outputs": [
    {
     "data": {
      "text/plain": [
       "menu\n",
       "EGGS ON TOAST                  6\n",
       "Hot Chocolate                  4\n",
       "Mocha                          4\n",
       "AVOCADO TOAST                  4\n",
       "Cappuccino                     4\n",
       "Latte                          4\n",
       "Flat White                     4\n",
       "Sparkling Water                3\n",
       "NEW YORK BAGEL BENEDICT        3\n",
       "Lemonade                       2\n",
       "Cola                           2\n",
       "BURRITO BOWL                   1\n",
       "Long Black                     1\n",
       "Espresso                       1\n",
       "Orange Juice                   1\n",
       "Apple Juice                    1\n",
       "HUEVOS (SPANISH BAKED EGGS)    1\n",
       "Name: count, dtype: int64"
      ]
     },
     "execution_count": 13,
     "metadata": {},
     "output_type": "execute_result"
    }
   ],
   "execution_count": 13
  },
  {
   "metadata": {
    "ExecuteTime": {
     "end_time": "2024-06-27T09:13:05.182395Z",
     "start_time": "2024-06-27T09:13:05.091723Z"
    }
   },
   "cell_type": "code",
   "source": [
    "# Plot the distribution of add-on prices\n",
    "plt.figure(figsize=(10, 6))\n",
    "plt.hist(add_on_df['price'], bins=10, edgecolor='black')\n",
    "plt.title('Price Distribution')\n",
    "plt.xlabel('Price')\n",
    "plt.ylabel('Frequency')\n",
    "plt.show()"
   ],
   "id": "e4503de1a0a3cfd7",
   "outputs": [
    {
     "data": {
      "text/plain": [
       "<Figure size 1000x600 with 1 Axes>"
      ],
      "image/png": "[encoded data removed]"
     },
     "metadata": {},
     "output_type": "display_data"
    }
   ],
   "execution_count": 14
  },
  {
   "metadata": {
    "ExecuteTime": {
     "end_time": "2024-06-27T09:13:05.346245Z",
     "start_time": "2024-06-27T09:13:05.196769Z"
    }
   },
   "cell_type": "code",
   "source": [
    "# Calculate and plot average price per menu item in add_on_df\n",
    "average_price_per_menu = add_on_df.groupby('menu')['price'].mean()\n",
    "plt.figure(figsize=(10, 6))\n",
    "average_price_per_menu.plot(kind='bar')\n",
    "plt.title('Average Price per Menu Item')\n",
    "plt.xlabel('Menu')\n",
    "plt.ylabel('Average Price')\n",
    "plt.show()"
   ],
   "id": "b6ce6043974f44f3",
   "outputs": [
    {
     "data": {
      "text/plain": [
       "<Figure size 1000x600 with 1 Axes>"
      ],
      "image/png": "[encoded data removed]"
     },
     "metadata": {},
     "output_type": "display_data"
    }
   ],
   "execution_count": 15
  },
  {
   "metadata": {
    "ExecuteTime": {
     "end_time": "2024-06-27T09:13:05.400331Z",
     "start_time": "2024-06-27T09:13:05.348626Z"
    }
   },
   "cell_type": "code",
   "source": [
    "# Add day of the week to merged_df\n",
    "merged_df['date'] = pd.to_datetime(merged_df['date'])  # Ensure 'date' is in datetime format\n",
    "merged_df['day_of_week'] = merged_df['date'].dt.day_name()  # Extract day of the week"
   ],
   "id": "a5c69e9a2db2b1b0",
   "outputs": [],
   "execution_count": 16
  },
  {
   "metadata": {
    "ExecuteTime": {
     "end_time": "2024-06-27T09:13:05.409158Z",
     "start_time": "2024-06-27T09:13:05.402236Z"
    }
   },
   "cell_type": "code",
   "source": "merged_df.head()",
   "id": "313fb1a02eb5305e",
   "outputs": [
    {
     "data": {
      "text/plain": [
       "                                    menu_name               category  price  \\\n",
       "0                                Ham & cheese  Toasties On Sourdough    7.0   \n",
       "1  Chicken, beef & pork or vegan sausage roll    House Made Pastries    7.0   \n",
       "2                               Hot Chocolate               Beverage    4.0   \n",
       "3                                       Mocha               Beverage    5.0   \n",
       "4                             CHILLI SCRAMBLE      All day breakfast   18.0   \n",
       "\n",
       "  add_ons       date   time  add_ons_price  total_price day_of_week  \n",
       "0      [] 2021-07-13  07:05            0.0          7.0     Tuesday  \n",
       "1      [] 2021-07-13  07:06            0.0          7.0     Tuesday  \n",
       "2      [] 2021-07-13  07:07            0.0          4.0     Tuesday  \n",
       "3      [] 2021-07-13  07:08            0.0          5.0     Tuesday  \n",
       "4      [] 2021-07-13  07:08            0.0         18.0     Tuesday  "
      ],
      "text/html": [
       "<div>\n",
       "<style scoped>\n",
       "    .dataframe tbody tr th:only-of-type {\n",
       "        vertical-align: middle;\n",
       "    }\n",
       "\n",
       "    .dataframe tbody tr th {\n",
       "        vertical-align: top;\n",
       "    }\n",
       "\n",
       "    .dataframe thead th {\n",
       "        text-align: right;\n",
       "    }\n",
       "</style>\n",
       "<table border=\"1\" class=\"dataframe\">\n",
       "  <thead>\n",
       "    <tr style=\"text-align: right;\">\n",
       "      <th></th>\n",
       "      <th>menu_name</th>\n",
       "      <th>category</th>\n",
       "      <th>price</th>\n",
       "      <th>add_ons</th>\n",
       "      <th>date</th>\n",
       "      <th>time</th>\n",
       "      <th>add_ons_price</th>\n",
       "      <th>total_price</th>\n",
       "      <th>day_of_week</th>\n",
       "    </tr>\n",
       "  </thead>\n",
       "  <tbody>\n",
       "    <tr>\n",
       "      <th>0</th>\n",
       "      <td>Ham &amp; cheese</td>\n",
       "      <td>Toasties On Sourdough</td>\n",
       "      <td>7.0</td>\n",
       "      <td>[]</td>\n",
       "      <td>2021-07-13</td>\n",
       "      <td>07:05</td>\n",
       "      <td>0.0</td>\n",
       "      <td>7.0</td>\n",
       "      <td>Tuesday</td>\n",
       "    </tr>\n",
       "    <tr>\n",
       "      <th>1</th>\n",
       "      <td>Chicken, beef &amp; pork or vegan sausage roll</td>\n",
       "      <td>House Made Pastries</td>\n",
       "      <td>7.0</td>\n",
       "      <td>[]</td>\n",
       "      <td>2021-07-13</td>\n",
       "      <td>07:06</td>\n",
       "      <td>0.0</td>\n",
       "      <td>7.0</td>\n",
       "      <td>Tuesday</td>\n",
       "    </tr>\n",
       "    <tr>\n",
       "      <th>2</th>\n",
       "      <td>Hot Chocolate</td>\n",
       "      <td>Beverage</td>\n",
       "      <td>4.0</td>\n",
       "      <td>[]</td>\n",
       "      <td>2021-07-13</td>\n",
       "      <td>07:07</td>\n",
       "      <td>0.0</td>\n",
       "      <td>4.0</td>\n",
       "      <td>Tuesday</td>\n",
       "    </tr>\n",
       "    <tr>\n",
       "      <th>3</th>\n",
       "      <td>Mocha</td>\n",
       "      <td>Beverage</td>\n",
       "      <td>5.0</td>\n",
       "      <td>[]</td>\n",
       "      <td>2021-07-13</td>\n",
       "      <td>07:08</td>\n",
       "      <td>0.0</td>\n",
       "      <td>5.0</td>\n",
       "      <td>Tuesday</td>\n",
       "    </tr>\n",
       "    <tr>\n",
       "      <th>4</th>\n",
       "      <td>CHILLI SCRAMBLE</td>\n",
       "      <td>All day breakfast</td>\n",
       "      <td>18.0</td>\n",
       "      <td>[]</td>\n",
       "      <td>2021-07-13</td>\n",
       "      <td>07:08</td>\n",
       "      <td>0.0</td>\n",
       "      <td>18.0</td>\n",
       "      <td>Tuesday</td>\n",
       "    </tr>\n",
       "  </tbody>\n",
       "</table>\n",
       "</div>"
      ]
     },
     "execution_count": 17,
     "metadata": {},
     "output_type": "execute_result"
    }
   ],
   "execution_count": 17
  },
  {
   "metadata": {
    "ExecuteTime": {
     "end_time": "2024-06-27T09:13:05.444208Z",
     "start_time": "2024-06-27T09:13:05.411005Z"
    }
   },
   "cell_type": "code",
   "source": "merged_df.describe()",
   "id": "11de1d8ac2ecd2b7",
   "outputs": [
    {
     "data": {
      "text/plain": [
       "               price                           date  add_ons_price  \\\n",
       "count  108000.000000                         108000  108000.000000   \n",
       "mean        9.014264  2023-01-01 22:41:23.999999744       0.177944   \n",
       "min         3.000000            2021-07-13 00:00:00       0.000000   \n",
       "25%         4.500000            2022-04-06 00:00:00       0.000000   \n",
       "50%         7.000000            2022-12-31 00:00:00       0.000000   \n",
       "75%        12.000000            2023-09-29 00:00:00       0.000000   \n",
       "max        21.000000            2024-06-26 00:00:00      16.500000   \n",
       "std         5.674114                            NaN       1.066851   \n",
       "\n",
       "         total_price  \n",
       "count  108000.000000  \n",
       "mean        9.192208  \n",
       "min         3.000000  \n",
       "25%         4.500000  \n",
       "50%         7.000000  \n",
       "75%        13.000000  \n",
       "max        30.500000  \n",
       "std         5.825301  "
      ],
      "text/html": [
       "<div>\n",
       "<style scoped>\n",
       "    .dataframe tbody tr th:only-of-type {\n",
       "        vertical-align: middle;\n",
       "    }\n",
       "\n",
       "    .dataframe tbody tr th {\n",
       "        vertical-align: top;\n",
       "    }\n",
       "\n",
       "    .dataframe thead th {\n",
       "        text-align: right;\n",
       "    }\n",
       "</style>\n",
       "<table border=\"1\" class=\"dataframe\">\n",
       "  <thead>\n",
       "    <tr style=\"text-align: right;\">\n",
       "      <th></th>\n",
       "      <th>price</th>\n",
       "      <th>date</th>\n",
       "      <th>add_ons_price</th>\n",
       "      <th>total_price</th>\n",
       "    </tr>\n",
       "  </thead>\n",
       "  <tbody>\n",
       "    <tr>\n",
       "      <th>count</th>\n",
       "      <td>108000.000000</td>\n",
       "      <td>108000</td>\n",
       "      <td>108000.000000</td>\n",
       "      <td>108000.000000</td>\n",
       "    </tr>\n",
       "    <tr>\n",
       "      <th>mean</th>\n",
       "      <td>9.014264</td>\n",
       "      <td>2023-01-01 22:41:23.999999744</td>\n",
       "      <td>0.177944</td>\n",
       "      <td>9.192208</td>\n",
       "    </tr>\n",
       "    <tr>\n",
       "      <th>min</th>\n",
       "      <td>3.000000</td>\n",
       "      <td>2021-07-13 00:00:00</td>\n",
       "      <td>0.000000</td>\n",
       "      <td>3.000000</td>\n",
       "    </tr>\n",
       "    <tr>\n",
       "      <th>25%</th>\n",
       "      <td>4.500000</td>\n",
       "      <td>2022-04-06 00:00:00</td>\n",
       "      <td>0.000000</td>\n",
       "      <td>4.500000</td>\n",
       "    </tr>\n",
       "    <tr>\n",
       "      <th>50%</th>\n",
       "      <td>7.000000</td>\n",
       "      <td>2022-12-31 00:00:00</td>\n",
       "      <td>0.000000</td>\n",
       "      <td>7.000000</td>\n",
       "    </tr>\n",
       "    <tr>\n",
       "      <th>75%</th>\n",
       "      <td>12.000000</td>\n",
       "      <td>2023-09-29 00:00:00</td>\n",
       "      <td>0.000000</td>\n",
       "      <td>13.000000</td>\n",
       "    </tr>\n",
       "    <tr>\n",
       "      <th>max</th>\n",
       "      <td>21.000000</td>\n",
       "      <td>2024-06-26 00:00:00</td>\n",
       "      <td>16.500000</td>\n",
       "      <td>30.500000</td>\n",
       "    </tr>\n",
       "    <tr>\n",
       "      <th>std</th>\n",
       "      <td>5.674114</td>\n",
       "      <td>NaN</td>\n",
       "      <td>1.066851</td>\n",
       "      <td>5.825301</td>\n",
       "    </tr>\n",
       "  </tbody>\n",
       "</table>\n",
       "</div>"
      ]
     },
     "execution_count": 18,
     "metadata": {},
     "output_type": "execute_result"
    }
   ],
   "execution_count": 18
  },
  {
   "metadata": {
    "ExecuteTime": {
     "end_time": "2024-06-27T09:13:05.543042Z",
     "start_time": "2024-06-27T09:13:05.446647Z"
    }
   },
   "cell_type": "code",
   "source": [
    "# Plot the distribution of total prices in merged_df\n",
    "plt.figure(figsize=(10, 6))\n",
    "plt.hist(merged_df['total_price'], bins=50, edgecolor='black')\n",
    "plt.xlabel('Total Price')\n",
    "plt.ylabel('Frequency')\n",
    "plt.title('Distribution of Total Price')\n",
    "plt.show()"
   ],
   "id": "b1efc179bad822bc",
   "outputs": [
    {
     "data": {
      "text/plain": [
       "<Figure size 1000x600 with 1 Axes>"
      ],
      "image/png": "[encoded data removed]"
     },
     "metadata": {},
     "output_type": "display_data"
    }
   ],
   "execution_count": 19
  },
  {
   "metadata": {
    "ExecuteTime": {
     "end_time": "2024-06-27T09:13:05.593829Z",
     "start_time": "2024-06-27T09:13:05.544810Z"
    }
   },
   "cell_type": "code",
   "source": [
    "# Perform ANOVA to test for significant differences in total_price between categories\n",
    "categories = merged_df['category'].unique()\n",
    "data = [merged_df[merged_df['category'] == category]['total_price'] for category in categories]\n",
    "f_val, p_val = stats.f_oneway(*data)\n",
    "print(f'ANOVA results: F-value = {f_val}, P-value = {p_val}')"
   ],
   "id": "3413a6175befd5f7",
   "outputs": [
    {
     "name": "stdout",
     "output_type": "stream",
     "text": [
      "ANOVA results: F-value = 59898.72062553933, P-value = 0.0\n"
     ]
    }
   ],
   "execution_count": 20
  },
  {
   "metadata": {
    "ExecuteTime": {
     "end_time": "2024-06-27T09:13:05.711742Z",
     "start_time": "2024-06-27T09:13:05.595109Z"
    }
   },
   "cell_type": "code",
   "source": [
    "# Calculate and plot average total price by category\n",
    "avg_price_by_category = merged_df.groupby('category')['total_price'].mean()\n",
    "plt.figure(figsize=(10, 6))\n",
    "plt.bar(avg_price_by_category.index, avg_price_by_category.values)\n",
    "plt.xlabel('Category')\n",
    "plt.ylabel('Average Total Price')\n",
    "plt.title('Average Total Price by Category')\n",
    "plt.xticks(rotation=90)\n",
    "plt.show()"
   ],
   "id": "d0494c107a91f112",
   "outputs": [
    {
     "data": {
      "text/plain": [
       "<Figure size 1000x600 with 1 Axes>"
      ],
      "image/png": "[encoded data removed]"
     },
     "metadata": {},
     "output_type": "display_data"
    }
   ],
   "execution_count": 21
  }
 ],
 "metadata": {
  "kernelspec": {
   "display_name": "Python 3",
   "language": "python",
   "name": "python3"
  },
  "language_info": {
   "codemirror_mode": {
    "name": "ipython",
    "version": 2
   },
   "file_extension": ".py",
   "mimetype": "text/x-python",
   "name": "python",
   "nbconvert_exporter": "python",
   "pygments_lexer": "ipython2",
   "version": "2.7.6"
  }
 },
 "nbformat": 4,
 "nbformat_minor": 5
}
