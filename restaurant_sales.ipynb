{
 "cells": [
  {
   "cell_type": "markdown",
   "id": "d76e7831a64610fe",
   "metadata": {},
   "source": [
    "import section"
   ]
  },
  {
   "cell_type": "code",
   "id": "10a73eae1821e98",
   "metadata": {},
   "source": [
    "import pandas as pd\n",
    "from pandas import DataFrame\n",
    "import ast\n",
    "import matplotlib.pyplot as plt\n",
    "import scipy.stats as stats"
   ],
   "outputs": [],
   "execution_count": null
  },
  {
   "cell_type": "code",
   "id": "bb852593384cf751",
   "metadata": {},
   "source": [
    "# Load the sales data\n",
    "sales_df = pd.read_csv('data/sale.csv', sep=',')\n",
    "\n",
    "# Load the menu data\n",
    "menu_df = pd.read_csv('data/menus.csv', sep=',')\n",
    "\n",
    "# Load the add-on data\n",
    "add_on_df = pd.read_csv('data/add-on.csv', sep=',')\n",
    "\n",
    "# Check basic info of each dataframe\n",
    "menu_df.info(), sales_df.info(), add_on_df.info()"
   ],
   "outputs": [],
   "execution_count": null
  },
  {
   "cell_type": "markdown",
   "id": "65cb8cd507353e3e",
   "metadata": {},
   "source": [
    "Additional function"
   ]
  },
  {
   "cell_type": "code",
   "id": "40e36d48fba570f9",
   "metadata": {},
   "source": [
    "# Function to calculate the total price of add-ons\n",
    "def calculate_addon_price(addons, addons_df: DataFrame) -> float:\n",
    "    addons_list = ast.literal_eval(addons)  # Convert the string representation of list to actual list\n",
    "    total_price = 0\n",
    "    for addon in addons_list:\n",
    "        price = addons_df.loc[addons_df['name'] == addon, 'price']\n",
    "        if not price.empty:\n",
    "            total_price += price.values[0]\n",
    "    return total_price"
   ],
   "outputs": [],
   "execution_count": null
  },
  {
   "cell_type": "markdown",
   "id": "3ec083e19b32db65",
   "metadata": {},
   "source": [
    "Preparation section"
   ]
  },
  {
   "cell_type": "code",
   "id": "68ac1ae42b9b2005",
   "metadata": {},
   "source": [
    "# Preprocess menu_df\n",
    "menu_df['price'] = menu_df['price'].astype(float)  # Ensure price is of type float\n",
    "menu_df = menu_df.drop(columns=['uuid', 'description'])  # Drop unnecessary columns\n",
    "menu_df = menu_df.rename(columns={'name': 'menu_name'})  # Rename column for consistency\n",
    "menu_df = menu_df.dropna(axis=0, how='any')  # Drop rows with any NaN values\n",
    "menu_df.info()"
   ],
   "outputs": [],
   "execution_count": null
  },
  {
   "cell_type": "code",
   "id": "290f61b22a910d5b",
   "metadata": {},
   "source": [
    "# Preprocess sales_df\n",
    "sales_df = sales_df.drop(columns=['uuid'])  # Drop unnecessary columns\n",
    "sales_df = sales_df.rename(columns={'menu_item': 'menu_name'})  # Rename column for consistency\n",
    "sales_df = sales_df.sort_values('date_time', ascending=True).reset_index(drop=True)  # Sort by date_time and reset index\n",
    "sales_df = sales_df.dropna(axis=0, how='any')  # Drop rows with any NaN values\n",
    "sales_df.info()"
   ],
   "outputs": [],
   "execution_count": null
  },
  {
   "cell_type": "code",
   "id": "c7f9fbd846657bcc",
   "metadata": {},
   "source": [
    "# Preprocess add_on_df\n",
    "add_on_df = add_on_df.drop(columns=['uuid'])  # Drop unnecessary columns\n",
    "add_on_df = add_on_df.dropna(axis=0, how='any')  # Drop rows with any NaN values\n",
    "add_on_df.info()"
   ],
   "outputs": [],
   "execution_count": null
  },
  {
   "cell_type": "code",
   "id": "79584f3d4c22b722",
   "metadata": {},
   "source": [
    "# Merge dataframes\n",
    "merged_df = pd.merge(menu_df, sales_df, on='menu_name', how='inner')  # Merge menu and sales data on menu_name\n",
    "merged_df = merged_df.dropna(axis=0, how='any')  # Drop rows with any NaN values\n",
    "merged_df[\"date_time\"] = pd.to_datetime(merged_df[\"date_time\"])  # Convert date_time to datetime format\n",
    "merged_df = merged_df.sort_values(by='date_time', ascending=True).reset_index(\n",
    "    drop=True)  # Sort by date_time and reset index\n",
    "merged_df[\"date\"] = merged_df[\"date_time\"].dt.strftime(\"%Y-%m-%d\")  # Extract date\n",
    "merged_df[\"time\"] = merged_df[\"date_time\"].dt.strftime(\"%H:%M\")  # Extract time\n",
    "# merged_df = merged_df.drop(columns=[\"date_time\"])  # Drop the original date_time column\n",
    "merged_df[\"add_ons_price\"] = merged_df[\"add_ons\"].apply(\n",
    "    lambda x: calculate_addon_price(x, add_on_df))  # Calculate add_ons_price\n",
    "merged_df[\"total_price\"] = merged_df[\"add_ons_price\"] + merged_df[\"price\"]  # Calculate total price\n",
    "merged_df.info()"
   ],
   "outputs": [],
   "execution_count": null
  },
  {
   "cell_type": "code",
   "id": "37d2b7193f128182",
   "metadata": {},
   "source": [
    "# Check for missing values\n",
    "missing_values = merged_df.isnull().sum()\n",
    "print(missing_values)"
   ],
   "outputs": [],
   "execution_count": null
  },
  {
   "cell_type": "code",
   "id": "944384a21330b5c2",
   "metadata": {},
   "source": [
    "# Display the first few rows of the final merged dataframe\n",
    "merged_df.head(20)"
   ],
   "outputs": [],
   "execution_count": null
  },
  {
   "cell_type": "markdown",
   "id": "f28735e78325942",
   "metadata": {},
   "source": [
    "**Analysis section**\n",
    "\n",
    "---"
   ]
  },
  {
   "cell_type": "code",
   "id": "c565eec36d38b93d",
   "metadata": {},
   "source": [
    "# Analyze merged_df for negative prices\n",
    "negative_price = merged_df[merged_df['price'] < 0]\n",
    "negative_add_ons_price = merged_df[merged_df['add_ons_price'] < 0]\n",
    "negative_total_price = merged_df[merged_df['total_price'] < 0]\n",
    "\n",
    "# Display dataframes with negative values\n",
    "print(negative_price)\n",
    "print(negative_add_ons_price)\n",
    "print(negative_total_price)"
   ],
   "outputs": [],
   "execution_count": null
  },
  {
   "cell_type": "code",
   "id": "d9816e7f369aa628",
   "metadata": {},
   "source": [
    "# Display first few rows and summary statistics of add_on_df\n",
    "add_on_df.head()"
   ],
   "outputs": [],
   "execution_count": null
  },
  {
   "cell_type": "code",
   "id": "15d867ebdc3ca3dd",
   "metadata": {},
   "source": [
    "add_on_df.describe()"
   ],
   "outputs": [],
   "execution_count": null
  },
  {
   "cell_type": "code",
   "id": "6ab638477b5e60c1",
   "metadata": {},
   "source": [
    "# Count occurrences of each menu in add_on_df\n",
    "menu_counts = add_on_df['menu']\n",
    "menu_counts.value_counts()"
   ],
   "outputs": [],
   "execution_count": null
  },
  {
   "cell_type": "code",
   "id": "e4503de1a0a3cfd7",
   "metadata": {},
   "source": [
    "# Plot the distribution of add-on prices\n",
    "plt.figure(figsize=(10, 6))\n",
    "plt.hist(add_on_df['price'], bins=10, edgecolor='black')\n",
    "plt.title('Price Distribution')\n",
    "plt.xlabel('Price')\n",
    "plt.ylabel('Frequency')\n",
    "plt.show()"
   ],
   "outputs": [],
   "execution_count": null
  },
  {
   "cell_type": "code",
   "id": "b6ce6043974f44f3",
   "metadata": {},
   "source": [
    "# Calculate and plot average price per menu item in add_on_df\n",
    "average_price_per_menu = add_on_df.groupby('menu')['price'].mean()\n",
    "plt.figure(figsize=(10, 6))\n",
    "average_price_per_menu.plot(kind='bar')\n",
    "plt.title('Average Price per Menu Item')\n",
    "plt.xlabel('Menu')\n",
    "plt.ylabel('Average Price')\n",
    "plt.show()"
   ],
   "outputs": [],
   "execution_count": null
  },
  {
   "cell_type": "code",
   "id": "a5c69e9a2db2b1b0",
   "metadata": {},
   "source": [
    "# Add day of the week to merged_df\n",
    "merged_df['date'] = pd.to_datetime(merged_df['date'])  # Ensure 'date' is in datetime format\n",
    "merged_df['day_of_week'] = merged_df['date'].dt.day_name()  # Extract day of the week"
   ],
   "outputs": [],
   "execution_count": null
  },
  {
   "cell_type": "code",
   "id": "313fb1a02eb5305e",
   "metadata": {},
   "source": [
    "merged_df.head()"
   ],
   "outputs": [],
   "execution_count": null
  },
  {
   "cell_type": "code",
   "id": "11de1d8ac2ecd2b7",
   "metadata": {},
   "source": [
    "merged_df.describe()"
   ],
   "outputs": [],
   "execution_count": null
  },
  {
   "cell_type": "code",
   "id": "b1efc179bad822bc",
   "metadata": {},
   "source": [
    "# Plot the distribution of total prices in merged_df\n",
    "plt.figure(figsize=(10, 6))\n",
    "plt.hist(merged_df['total_price'], bins=50, edgecolor='black')\n",
    "plt.xlabel('Total Price')\n",
    "plt.ylabel('Frequency')\n",
    "plt.title('Distribution of Total Price')\n",
    "plt.show()"
   ],
   "outputs": [],
   "execution_count": null
  },
  {
   "cell_type": "code",
   "id": "3413a6175befd5f7",
   "metadata": {},
   "source": [
    "# Perform ANOVA to test for significant differences in total_price between categories\n",
    "categories = merged_df['category'].unique()\n",
    "data = [merged_df[merged_df['category'] == category]['total_price'] for category in categories]\n",
    "f_val, p_val = stats.f_oneway(*data)\n",
    "print(f'ANOVA results: F-value = {f_val}, P-value = {p_val}')"
   ],
   "outputs": [],
   "execution_count": null
  },
  {
   "cell_type": "code",
   "id": "d0494c107a91f112",
   "metadata": {},
   "source": [
    " # Calculate and plot average total price by category\n",
    "avg_price_by_category = merged_df.groupby('category')['total_price'].mean()\n",
    "plt.figure(figsize=(10, 6))\n",
    "plt.bar(avg_price_by_category.index, avg_price_by_category.values)\n",
    "plt.xlabel('Category')\n",
    "plt.ylabel('Average Total Price')\n",
    "plt.title('Average Total Price by Category')\n",
    "plt.xticks(rotation=90)\n",
    "plt.show()"
   ],
   "outputs": [],
   "execution_count": null
  },
  {
   "cell_type": "markdown",
   "id": "f32a1ede48682e5c",
   "metadata": {},
   "source": [
    "# analyze sale"
   ]
  },
  {
   "cell_type": "code",
   "id": "2e1d304633d04ad2",
   "metadata": {},
   "source": [
    "sale_analyze_df = merged_df"
   ],
   "outputs": [],
   "execution_count": null
  },
  {
   "cell_type": "code",
   "id": "9a6647db19fb14a0",
   "metadata": {},
   "source": [
    "sale_analyze_df.head()"
   ],
   "outputs": [],
   "execution_count": null
  },
  {
   "cell_type": "code",
   "id": "3dacda31f6e24551",
   "metadata": {},
   "source": [
    "# Calculate sales for each item\n",
    "sale_analyze_df['sales'] = sale_analyze_df['price'] * sale_analyze_df.groupby('menu_name')['menu_name'].transform(\n",
    "    'count')\n",
    "\n",
    "# Total sales\n",
    "total_sales = sale_analyze_df['sales'].sum()\n",
    "print(f'Total estimated sales: ${total_sales:.2f}')"
   ],
   "outputs": [],
   "execution_count": null
  },
  {
   "cell_type": "code",
   "id": "dabea41ac558f001",
   "metadata": {},
   "source": [
    "# Define time categories\n",
    "def categorize_time(hour):\n",
    "    if 6 <= hour < 11:\n",
    "        return 'Breakfast'\n",
    "    elif 11 <= hour < 14:\n",
    "        return 'Lunch'\n",
    "    elif 14 <= hour < 17:\n",
    "        return 'Afternoon'\n",
    "    elif 17 <= hour < 21:\n",
    "        return 'Dinner'\n",
    "    else:\n",
    "        return 'Other'"
   ],
   "outputs": [],
   "execution_count": null
  },
  {
   "cell_type": "code",
   "id": "9aec95762c79c3f",
   "metadata": {},
   "source": [
    "# Function to plot bars for aggregated data\n",
    "def plot_bars(agg_data, title, x_label, y_label):\n",
    "    agg_data.plot(kind='bar', figsize=(12, 6))\n",
    "    plt.title(title)\n",
    "    plt.xlabel(x_label)\n",
    "    plt.ylabel(y_label)\n",
    "    plt.grid(True)\n",
    "    plt.tight_layout()\n",
    "    plt.show()"
   ],
   "outputs": [],
   "execution_count": null
  },
  {
   "cell_type": "code",
   "id": "87f81125fea043fc",
   "metadata": {},
   "source": [
    "# Extract year, month, and day from date\n",
    "sale_analyze_df['year'] = sale_analyze_df['date_time'].dt.year\n",
    "sale_analyze_df['month'] = sale_analyze_df['date_time'].dt.month\n",
    "sale_analyze_df['day'] = sale_analyze_df['date_time'].dt.day\n",
    "sale_analyze_df['hour'] = sale_analyze_df['date_time'].dt.hour\n",
    "\n",
    "# Calculate total sales, total cost, and total sale difference (sales - cost) for all data\n",
    "total_sales_all = sale_analyze_df['price'].sum()\n",
    "total_cost_all = sale_analyze_df['cost'].sum()\n",
    "total_sale_difference_all = total_sales_all - total_cost_all\n",
    "\n",
    "# Calculate total sales, total cost, and sale difference (sales - cost)\n",
    "sale_analyze_df['total_sales'] = sale_analyze_df.groupby(['year', 'month', 'day'])['price'].transform('sum')\n",
    "sale_analyze_df['total_cost'] = sale_analyze_df.groupby(['year', 'month', 'day'])['cost'].transform('sum')\n",
    "sale_analyze_df['total_sale_difference'] = sale_analyze_df['total_sales'] - sale_analyze_df['total_cost']\n",
    "sale_analyze_df['sale_difference'] = sale_analyze_df['price'] - sale_analyze_df['cost']\n",
    "\n",
    "sale_analyze_df['time_category'] = sale_analyze_df['hour'].apply(categorize_time)\n",
    "\n",
    "# Calculate sales and sale difference\n",
    "sale_analyze_df['sales'] = sale_analyze_df['price']\n",
    "sale_analyze_df['sale_difference'] = sale_analyze_df['sales'] - sale_analyze_df['cost']"
   ],
   "outputs": [],
   "execution_count": null
  },
  {
   "cell_type": "code",
   "id": "db6e1a409adcdfaf",
   "metadata": {},
   "source": [
    "# Aggregate by day of week\n",
    "agg_day_of_week = sale_analyze_df.groupby('day_of_week').agg({\n",
    "    'sales': 'sum',\n",
    "    'cost': 'sum',\n",
    "    'sale_difference': 'sum'\n",
    "}).reindex(['Monday', 'Tuesday', 'Wednesday', 'Thursday', 'Friday', 'Saturday', 'Sunday'])\n",
    "\n",
    "# Aggregate by time category\n",
    "agg_time_category = sale_analyze_df.groupby('time_category').agg({\n",
    "    'sales': 'sum',\n",
    "    'cost': 'sum',\n",
    "    'sale_difference': 'sum'\n",
    "})\n",
    "\n",
    "# Aggregate by year, month, day (as previously described)\n",
    "agg_year = sale_analyze_df.groupby('year').agg({\n",
    "    'sales': 'sum',\n",
    "    'cost': 'sum',\n",
    "    'sale_difference': 'sum'\n",
    "}).reset_index()\n",
    "\n",
    "agg_month = sale_analyze_df.groupby(['year', 'month']).agg({\n",
    "    'sales': 'sum',\n",
    "    'cost': 'sum',\n",
    "    'sale_difference': 'sum'\n",
    "}).reset_index()\n",
    "\n",
    "agg_month_avg = sale_analyze_df.groupby('month').agg({\n",
    "    'sales': 'mean',\n",
    "    'cost': 'mean',\n",
    "    'sale_difference': 'mean'\n",
    "}).reset_index()\n",
    "\n",
    "agg_day = sale_analyze_df.groupby(['year', 'month', 'day']).agg({\n",
    "    'sales': 'sum',\n",
    "    'cost': 'sum',\n",
    "    'sale_difference': 'sum'\n",
    "}).reset_index()\n",
    "\n",
    "agg_day_avg = sale_analyze_df.groupby(['month', 'day']).agg({\n",
    "    'sales': 'mean',\n",
    "    'cost': 'mean',\n",
    "    'sale_difference': 'mean'\n",
    "}).reset_index()\n",
    "\n",
    "# Plot total sales, cost, and sale difference for all data\n",
    "total_sales_all = sale_analyze_df['sales'].sum()\n",
    "total_cost_all = sale_analyze_df['cost'].sum()\n",
    "total_sale_difference_all = total_sales_all - total_cost_all\n"
   ],
   "outputs": [],
   "execution_count": null
  },
  {
   "cell_type": "code",
   "id": "3437ede81ed16edb",
   "metadata": {},
   "source": [
    "plt.figure(figsize=(10, 6))\n",
    "labels = ['Total Sales', 'Total Cost', 'Total Sale Difference']\n",
    "values = [total_sales_all, total_cost_all, total_sale_difference_all]\n",
    "plt.bar(labels, values, color=['blue', 'red', 'green'])\n",
    "plt.title('Total Sales, Cost, and Sale Difference for All Data')\n",
    "plt.ylabel('Amount')\n",
    "plt.tight_layout()\n",
    "plt.show()"
   ],
   "outputs": [],
   "execution_count": null
  },
  {
   "cell_type": "code",
   "id": "0e621897",
   "metadata": {},
   "source": [
    "# Plot sales, cost, and sale difference by year\n",
    "plot_bars(agg_year.set_index('year'), 'Sales, Cost, and Sale Difference by Year', 'Year', 'Amount')"
   ],
   "outputs": [],
   "execution_count": null
  },
  {
   "cell_type": "code",
   "id": "d33e41ea",
   "metadata": {},
   "source": [
    "# Plot sales, cost, and sale difference by month (total in each month)\n",
    "plot_bars(agg_month.pivot(index='month', columns='year', values='sales'), 'Sales by Month', 'Month', 'Total Sales')"
   ],
   "outputs": [],
   "execution_count": null
  },
  {
   "cell_type": "code",
   "id": "66ceb33d",
   "metadata": {},
   "source": [
    "plot_bars(agg_month.pivot(index='month', columns='year', values='cost'), 'Cost by Month', 'Month', 'Total Cost')"
   ],
   "outputs": [],
   "execution_count": null
  },
  {
   "cell_type": "code",
   "id": "042c6021",
   "metadata": {},
   "source": [
    "plot_bars(agg_month.pivot(index='month', columns='year', values='sale_difference'), 'Sale Difference by Month', 'Month', 'Total Sale Difference')"
   ],
   "outputs": [],
   "execution_count": null
  },
  {
   "cell_type": "code",
   "id": "ccf3a9bb",
   "metadata": {},
   "source": [
    "# Plot average sales, cost, and sale difference by month\n",
    "plot_bars(agg_month_avg.set_index('month'), 'Average Sales, Cost, and Sale Difference by Month', 'Month', 'Average Amount')"
   ],
   "outputs": [],
   "execution_count": null
  },
  {
   "cell_type": "code",
   "id": "ee0f8f17",
   "metadata": {},
   "source": [
    "\n",
    "# Plot sales, cost, and sale difference by day (total in each day)\n",
    "plot_bars(agg_day.set_index(['year', 'month', 'day']), 'Sales, Cost, and Sale Difference by Day', 'Day', 'Amount')"
   ],
   "outputs": [],
   "execution_count": null
  },
  {
   "cell_type": "code",
   "id": "9cd32fdd",
   "metadata": {},
   "source": [
    "# Plot average sales, cost, and sale difference by day\n",
    "plot_bars(agg_day_avg.set_index(['month', 'day']), 'Average Sales, Cost, and Sale Difference by Day', 'Day', 'Average Amount')"
   ],
   "outputs": [],
   "execution_count": null
  },
  {
   "cell_type": "code",
   "id": "17e36bd8",
   "metadata": {},
   "source": [
    "# Plot sales, cost, and sale difference by day of week\n",
    "plot_bars(agg_day_of_week, 'Sales, Cost, and Sale Difference by Day of Week', 'Day of Week', 'Amount')"
   ],
   "outputs": [],
   "execution_count": null
  },
  {
   "cell_type": "code",
   "id": "b140eabc",
   "metadata": {},
   "source": [
    "# Plot sales, cost, and sale difference by time category\n",
    "plot_bars(agg_time_category, 'Sales, Cost, and Sale Difference by Time Category', 'Time Category', 'Amount')"
   ],
   "outputs": [],
   "execution_count": null
  },
  {
   "cell_type": "code",
   "id": "b9b8ed9954ce7b9f",
   "metadata": {},
   "source": [
    "# Count number of customers per day of the week\n",
    "daily_customers = sale_analyze_df.groupby('day_of_week').size()\n",
    "\n",
    "plt.figure(figsize=(10, 6))\n",
    "daily_customers.plot(kind='bar', color='skyblue')\n",
    "plt.title('Number of Customers by Day of the Week')\n",
    "plt.xlabel('Day of the Week')\n",
    "plt.ylabel('Number of Customers')\n",
    "plt.xticks(rotation=45)\n",
    "plt.tight_layout()\n",
    "plt.show()"
   ],
   "outputs": [],
   "execution_count": null
  },
  {
   "cell_type": "code",
   "id": "ece589ad4e4037d2",
   "metadata": {},
   "source": [
    "# Optional: Create time categories (e.g., breakfast, lunch, dinner)\n",
    "# Define time intervals for categorization\n",
    "bins = [0, 6, 12, 18, 24]\n",
    "labels = ['Night', 'Morning', 'Afternoon', 'Evening']\n",
    "sale_analyze_df['time_category'] = pd.cut(sale_analyze_df['date_time'].dt.hour, bins=bins, labels=labels, right=False)\n",
    "\n",
    "# Count number of customers by time category\n",
    "time_customers = sale_analyze_df.groupby('time_category').size()\n",
    "\n",
    "# Plotting number of customers by time category\n",
    "plt.figure(figsize=(8, 5))\n",
    "time_customers.plot(kind='bar', color='lightgreen')\n",
    "plt.title('Number of Customers by Time of Day')\n",
    "plt.xlabel('Time of Day')\n",
    "plt.ylabel('Number of Customers')\n",
    "plt.xticks(rotation=0)\n",
    "plt.tight_layout()\n",
    "plt.show()"
   ],
   "outputs": [],
   "execution_count": null
  },
  {
   "cell_type": "code",
   "id": "e1d20a09f99d488c",
   "metadata": {},
   "source": [],
   "outputs": [],
   "execution_count": null
  }
 ],
 "metadata": {
  "kernelspec": {
   "display_name": "Python 3",
   "language": "python",
   "name": "python3"
  },
  "language_info": {
   "codemirror_mode": {
    "name": "ipython",
    "version": 3
   },
   "file_extension": ".py",
   "mimetype": "text/x-python",
   "name": "python",
   "nbconvert_exporter": "python",
   "pygments_lexer": "ipython3",
   "version": "3.11.7"
  }
 },
 "nbformat": 4,
 "nbformat_minor": 5
}
