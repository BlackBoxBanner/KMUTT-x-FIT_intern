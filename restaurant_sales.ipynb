{
 "cells": [
  {
   "cell_type": "code",
   "id": "initial_id",
   "metadata": {
    "collapsed": true,
    "ExecuteTime": {
     "end_time": "2024-06-25T05:22:11.558058Z",
     "start_time": "2024-06-25T05:22:11.555260Z"
    }
   },
   "source": [
    "import pandas as pd\n",
    "from datetime import datetime, timedelta"
   ],
   "outputs": [],
   "execution_count": 9
  },
  {
   "metadata": {
    "ExecuteTime": {
     "end_time": "2024-06-25T05:22:11.703962Z",
     "start_time": "2024-06-25T05:22:11.563387Z"
    }
   },
   "cell_type": "code",
   "source": [
    "# Load the menu data from a CSV file\n",
    "menu_df = pd.read_csv(\"./data/menus.csv\")\n",
    "\n",
    "# Load the sales data from a CSV file\n",
    "sales_df = pd.read_csv(\"./data/sale.csv\")"
   ],
   "id": "7f8d6fb54705f3c4",
   "outputs": [],
   "execution_count": 10
  },
  {
   "metadata": {
    "ExecuteTime": {
     "end_time": "2024-06-25T05:22:11.717803Z",
     "start_time": "2024-06-25T05:22:11.704810Z"
    }
   },
   "cell_type": "code",
   "source": "menu_df.info(), sales_df.info()",
   "id": "2cc7ceed7fa9248f",
   "outputs": [
    {
     "name": "stdout",
     "output_type": "stream",
     "text": [
      "<class 'pandas.core.frame.DataFrame'>\n",
      "RangeIndex: 10 entries, 0 to 9\n",
      "Data columns (total 6 columns):\n",
      " #   Column       Non-Null Count  Dtype  \n",
      "---  ------       --------------  -----  \n",
      " 0   uuid         10 non-null     object \n",
      " 1   name         10 non-null     object \n",
      " 2   category     10 non-null     object \n",
      " 3   description  10 non-null     object \n",
      " 4   price        10 non-null     float64\n",
      " 5   add-on       10 non-null     object \n",
      "dtypes: float64(1), object(5)\n",
      "memory usage: 612.0+ bytes\n",
      "<class 'pandas.core.frame.DataFrame'>\n",
      "RangeIndex: 108000 entries, 0 to 107999\n",
      "Data columns (total 5 columns):\n",
      " #   Column         Non-Null Count   Dtype  \n",
      "---  ------         --------------   -----  \n",
      " 0   uuid           108000 non-null  object \n",
      " 1   date_time      108000 non-null  object \n",
      " 2   menu_item      108000 non-null  object \n",
      " 3   add_ons        108000 non-null  object \n",
      " 4   add_ons_price  108000 non-null  float64\n",
      "dtypes: float64(1), object(4)\n",
      "memory usage: 4.1+ MB\n"
     ]
    },
    {
     "data": {
      "text/plain": [
       "(None, None)"
      ]
     },
     "execution_count": 11,
     "metadata": {},
     "output_type": "execute_result"
    }
   ],
   "execution_count": 11
  },
  {
   "metadata": {
    "ExecuteTime": {
     "end_time": "2024-06-25T05:22:11.722697Z",
     "start_time": "2024-06-25T05:22:11.718379Z"
    }
   },
   "cell_type": "code",
   "source": "menu_df.head(10)",
   "id": "7d7abdf80baf927e",
   "outputs": [
    {
     "data": {
      "text/plain": [
       "                                   uuid                               name  \\\n",
       "0  c30f3d0e-8fbe-4804-a843-d7ae8f429676      BLT (bacon, lettuce & tomato)   \n",
       "1  4a16adfb-937b-4e2b-8088-bc97aaaf89a0                      EGGS ON TOAST   \n",
       "2  de0d7cc9-91f4-4782-997d-a2678c2be150        EGG, BACON & CHEESE TOASTIE   \n",
       "3  89218c23-036a-4ced-bf2d-90234fd9ea37                   Avocado & cheese   \n",
       "4  8949e3fa-9267-4907-a423-8c6c52c96a42                        Fairy Bread   \n",
       "5  3c8c1dc0-d74c-4f79-a644-a17c64240629                   Quiche w/ relish   \n",
       "6  8bed3f97-54d7-43e5-9732-75b276a80f26                       Ham & cheese   \n",
       "7  5475e638-d5b8-4d81-9b5c-7fd2aaa504d3                         Flat White   \n",
       "8  d5ae5682-647f-46ea-b008-fb44a155c5ec             COCONUT & CHIA PUDDING   \n",
       "9  f799a1b0-67ea-4e34-83a8-cd691ba4fdec  VEGAN SWISS BROWN MUSHROOM BURGER   \n",
       "\n",
       "                 category                                        description  \\\n",
       "0   Toasties On Sourdough                              Toasties on sourdough   \n",
       "1       All day breakfast  Free range - poached, scrambled or fried (V. GFO)   \n",
       "2       All day breakfast  Sourdough, fried egg, house made relish, chees...   \n",
       "3   Toasties On Sourdough                              Toasties on sourdough   \n",
       "4  CAKES, SLICES & SWEETS  House made assortment available from display -...   \n",
       "5     House Made Pastries                                    Served w/ aioli   \n",
       "6   Toasties On Sourdough                              Toasties on sourdough   \n",
       "7                Beverage                      A smooth, velvety milk coffee   \n",
       "8       All day breakfast  House made almond granola, berry compote serve...   \n",
       "9           All day lunch  Crispy porcini mushroom patty, pickled red cap...   \n",
       "\n",
       "   price                                             add-on  \n",
       "0   11.0                                                 []  \n",
       "1    9.5  [{'name': 'Salmon, bacon, cevapi, Chorizo', 'p...  \n",
       "2   10.5                                                 []  \n",
       "3    9.0                                                 []  \n",
       "4   18.0                                                 []  \n",
       "5    7.0                                                 []  \n",
       "6    7.0                                                 []  \n",
       "7    4.0  [{'name': 'Extra Shot', 'price': 0.5}, {'name'...  \n",
       "8   17.5                                                 []  \n",
       "9   18.0                                                 []  "
      ],
      "text/html": [
       "<div>\n",
       "<style scoped>\n",
       "    .dataframe tbody tr th:only-of-type {\n",
       "        vertical-align: middle;\n",
       "    }\n",
       "\n",
       "    .dataframe tbody tr th {\n",
       "        vertical-align: top;\n",
       "    }\n",
       "\n",
       "    .dataframe thead th {\n",
       "        text-align: right;\n",
       "    }\n",
       "</style>\n",
       "<table border=\"1\" class=\"dataframe\">\n",
       "  <thead>\n",
       "    <tr style=\"text-align: right;\">\n",
       "      <th></th>\n",
       "      <th>uuid</th>\n",
       "      <th>name</th>\n",
       "      <th>category</th>\n",
       "      <th>description</th>\n",
       "      <th>price</th>\n",
       "      <th>add-on</th>\n",
       "    </tr>\n",
       "  </thead>\n",
       "  <tbody>\n",
       "    <tr>\n",
       "      <th>0</th>\n",
       "      <td>c30f3d0e-8fbe-4804-a843-d7ae8f429676</td>\n",
       "      <td>BLT (bacon, lettuce &amp; tomato)</td>\n",
       "      <td>Toasties On Sourdough</td>\n",
       "      <td>Toasties on sourdough</td>\n",
       "      <td>11.0</td>\n",
       "      <td>[]</td>\n",
       "    </tr>\n",
       "    <tr>\n",
       "      <th>1</th>\n",
       "      <td>4a16adfb-937b-4e2b-8088-bc97aaaf89a0</td>\n",
       "      <td>EGGS ON TOAST</td>\n",
       "      <td>All day breakfast</td>\n",
       "      <td>Free range - poached, scrambled or fried (V. GFO)</td>\n",
       "      <td>9.5</td>\n",
       "      <td>[{'name': 'Salmon, bacon, cevapi, Chorizo', 'p...</td>\n",
       "    </tr>\n",
       "    <tr>\n",
       "      <th>2</th>\n",
       "      <td>de0d7cc9-91f4-4782-997d-a2678c2be150</td>\n",
       "      <td>EGG, BACON &amp; CHEESE TOASTIE</td>\n",
       "      <td>All day breakfast</td>\n",
       "      <td>Sourdough, fried egg, house made relish, chees...</td>\n",
       "      <td>10.5</td>\n",
       "      <td>[]</td>\n",
       "    </tr>\n",
       "    <tr>\n",
       "      <th>3</th>\n",
       "      <td>89218c23-036a-4ced-bf2d-90234fd9ea37</td>\n",
       "      <td>Avocado &amp; cheese</td>\n",
       "      <td>Toasties On Sourdough</td>\n",
       "      <td>Toasties on sourdough</td>\n",
       "      <td>9.0</td>\n",
       "      <td>[]</td>\n",
       "    </tr>\n",
       "    <tr>\n",
       "      <th>4</th>\n",
       "      <td>8949e3fa-9267-4907-a423-8c6c52c96a42</td>\n",
       "      <td>Fairy Bread</td>\n",
       "      <td>CAKES, SLICES &amp; SWEETS</td>\n",
       "      <td>House made assortment available from display -...</td>\n",
       "      <td>18.0</td>\n",
       "      <td>[]</td>\n",
       "    </tr>\n",
       "    <tr>\n",
       "      <th>5</th>\n",
       "      <td>3c8c1dc0-d74c-4f79-a644-a17c64240629</td>\n",
       "      <td>Quiche w/ relish</td>\n",
       "      <td>House Made Pastries</td>\n",
       "      <td>Served w/ aioli</td>\n",
       "      <td>7.0</td>\n",
       "      <td>[]</td>\n",
       "    </tr>\n",
       "    <tr>\n",
       "      <th>6</th>\n",
       "      <td>8bed3f97-54d7-43e5-9732-75b276a80f26</td>\n",
       "      <td>Ham &amp; cheese</td>\n",
       "      <td>Toasties On Sourdough</td>\n",
       "      <td>Toasties on sourdough</td>\n",
       "      <td>7.0</td>\n",
       "      <td>[]</td>\n",
       "    </tr>\n",
       "    <tr>\n",
       "      <th>7</th>\n",
       "      <td>5475e638-d5b8-4d81-9b5c-7fd2aaa504d3</td>\n",
       "      <td>Flat White</td>\n",
       "      <td>Beverage</td>\n",
       "      <td>A smooth, velvety milk coffee</td>\n",
       "      <td>4.0</td>\n",
       "      <td>[{'name': 'Extra Shot', 'price': 0.5}, {'name'...</td>\n",
       "    </tr>\n",
       "    <tr>\n",
       "      <th>8</th>\n",
       "      <td>d5ae5682-647f-46ea-b008-fb44a155c5ec</td>\n",
       "      <td>COCONUT &amp; CHIA PUDDING</td>\n",
       "      <td>All day breakfast</td>\n",
       "      <td>House made almond granola, berry compote serve...</td>\n",
       "      <td>17.5</td>\n",
       "      <td>[]</td>\n",
       "    </tr>\n",
       "    <tr>\n",
       "      <th>9</th>\n",
       "      <td>f799a1b0-67ea-4e34-83a8-cd691ba4fdec</td>\n",
       "      <td>VEGAN SWISS BROWN MUSHROOM BURGER</td>\n",
       "      <td>All day lunch</td>\n",
       "      <td>Crispy porcini mushroom patty, pickled red cap...</td>\n",
       "      <td>18.0</td>\n",
       "      <td>[]</td>\n",
       "    </tr>\n",
       "  </tbody>\n",
       "</table>\n",
       "</div>"
      ]
     },
     "execution_count": 12,
     "metadata": {},
     "output_type": "execute_result"
    }
   ],
   "execution_count": 12
  },
  {
   "metadata": {
    "ExecuteTime": {
     "end_time": "2024-06-25T05:22:11.728518Z",
     "start_time": "2024-06-25T05:22:11.723867Z"
    }
   },
   "cell_type": "code",
   "source": [
    "# Convert the 'price' column to float type\n",
    "menu_df['price'] = menu_df['price'].astype(float)\n",
    "\n",
    "# Drop the 'id' column as it might not be needed for further analysis\n",
    "menu_df = menu_df.drop(columns=['uuid'])\n",
    "\n",
    "# Drop the 'add-on' column as it might not be needed for further analysis\n",
    "menu_df = menu_df.drop(columns=['add-on'])\n",
    "\n",
    "# Drop the 'description' column as it might not be needed for further analysis\n",
    "menu_df = menu_df.drop(columns=['description'])\n",
    "\n",
    "# # Rename name to menu_name\n",
    "# menu_df = menu_df.rename(columns={'name': 'menu_name'})\n",
    "\n",
    "# Drop any rows with missing values\n",
    "menu_df = menu_df.dropna(axis=0, how='any')\n",
    "\n",
    "# Display the first few rows of the DataFrame\n",
    "menu_df.info()"
   ],
   "id": "f26b3d263446da1d",
   "outputs": [
    {
     "name": "stdout",
     "output_type": "stream",
     "text": [
      "<class 'pandas.core.frame.DataFrame'>\n",
      "RangeIndex: 10 entries, 0 to 9\n",
      "Data columns (total 3 columns):\n",
      " #   Column    Non-Null Count  Dtype  \n",
      "---  ------    --------------  -----  \n",
      " 0   name      10 non-null     object \n",
      " 1   category  10 non-null     object \n",
      " 2   price     10 non-null     float64\n",
      "dtypes: float64(1), object(2)\n",
      "memory usage: 372.0+ bytes\n"
     ]
    }
   ],
   "execution_count": 13
  },
  {
   "metadata": {
    "ExecuteTime": {
     "end_time": "2024-06-25T05:22:11.732523Z",
     "start_time": "2024-06-25T05:22:11.729031Z"
    }
   },
   "cell_type": "code",
   "source": "sales_df.head()",
   "id": "858b64402bef8979",
   "outputs": [
    {
     "data": {
      "text/plain": [
       "                                   uuid                   date_time  \\\n",
       "0  a467dc89-ee1c-4f4c-bf1b-8e0349fecd0b  2023-10-21 09:07:26.405505   \n",
       "1  418ad64f-8456-40df-92b4-db6fc8c851fa  2023-12-03 09:40:48.248450   \n",
       "2  6b644141-24ba-40f3-9bd7-9f6fe2422eab  2023-02-03 08:25:53.198912   \n",
       "3  19f2f6fb-4ae9-45c2-8707-5cee025953d6  2022-12-13 14:14:09.822816   \n",
       "4  8ba43f68-e7fa-4868-99a4-c6fcab074a1d  2024-05-05 10:14:01.011433   \n",
       "\n",
       "                menu_item add_ons  add_ons_price  \n",
       "0  COCONUT & CHIA PUDDING      []            0.0  \n",
       "1                 Pavlova      []            0.0  \n",
       "2           BIG BREAKFAST      []            0.0  \n",
       "3                Espresso      []            0.0  \n",
       "4                 Pavlova      []            0.0  "
      ],
      "text/html": [
       "<div>\n",
       "<style scoped>\n",
       "    .dataframe tbody tr th:only-of-type {\n",
       "        vertical-align: middle;\n",
       "    }\n",
       "\n",
       "    .dataframe tbody tr th {\n",
       "        vertical-align: top;\n",
       "    }\n",
       "\n",
       "    .dataframe thead th {\n",
       "        text-align: right;\n",
       "    }\n",
       "</style>\n",
       "<table border=\"1\" class=\"dataframe\">\n",
       "  <thead>\n",
       "    <tr style=\"text-align: right;\">\n",
       "      <th></th>\n",
       "      <th>uuid</th>\n",
       "      <th>date_time</th>\n",
       "      <th>menu_item</th>\n",
       "      <th>add_ons</th>\n",
       "      <th>add_ons_price</th>\n",
       "    </tr>\n",
       "  </thead>\n",
       "  <tbody>\n",
       "    <tr>\n",
       "      <th>0</th>\n",
       "      <td>a467dc89-ee1c-4f4c-bf1b-8e0349fecd0b</td>\n",
       "      <td>2023-10-21 09:07:26.405505</td>\n",
       "      <td>COCONUT &amp; CHIA PUDDING</td>\n",
       "      <td>[]</td>\n",
       "      <td>0.0</td>\n",
       "    </tr>\n",
       "    <tr>\n",
       "      <th>1</th>\n",
       "      <td>418ad64f-8456-40df-92b4-db6fc8c851fa</td>\n",
       "      <td>2023-12-03 09:40:48.248450</td>\n",
       "      <td>Pavlova</td>\n",
       "      <td>[]</td>\n",
       "      <td>0.0</td>\n",
       "    </tr>\n",
       "    <tr>\n",
       "      <th>2</th>\n",
       "      <td>6b644141-24ba-40f3-9bd7-9f6fe2422eab</td>\n",
       "      <td>2023-02-03 08:25:53.198912</td>\n",
       "      <td>BIG BREAKFAST</td>\n",
       "      <td>[]</td>\n",
       "      <td>0.0</td>\n",
       "    </tr>\n",
       "    <tr>\n",
       "      <th>3</th>\n",
       "      <td>19f2f6fb-4ae9-45c2-8707-5cee025953d6</td>\n",
       "      <td>2022-12-13 14:14:09.822816</td>\n",
       "      <td>Espresso</td>\n",
       "      <td>[]</td>\n",
       "      <td>0.0</td>\n",
       "    </tr>\n",
       "    <tr>\n",
       "      <th>4</th>\n",
       "      <td>8ba43f68-e7fa-4868-99a4-c6fcab074a1d</td>\n",
       "      <td>2024-05-05 10:14:01.011433</td>\n",
       "      <td>Pavlova</td>\n",
       "      <td>[]</td>\n",
       "      <td>0.0</td>\n",
       "    </tr>\n",
       "  </tbody>\n",
       "</table>\n",
       "</div>"
      ]
     },
     "execution_count": 14,
     "metadata": {},
     "output_type": "execute_result"
    }
   ],
   "execution_count": 14
  },
  {
   "metadata": {
    "ExecuteTime": {
     "end_time": "2024-06-25T05:22:11.808785Z",
     "start_time": "2024-06-25T05:22:11.733366Z"
    }
   },
   "cell_type": "code",
   "source": [
    "# Drop the 'id' column as it might not be needed for further analysis\n",
    "sales_df = sales_df.drop(columns=['uuid'])\n",
    "\n",
    "# # Rename the 'menu' column to 'menu_name' for clarity and consistency\n",
    "# sales_df = sales_df.rename(columns={'menu_item': 'menu_name'})\n",
    "\n",
    "sales_df = sales_df.sort_values('date_time', ascending=True).reset_index(drop=True)\n",
    "\n",
    "# Drop any rows with missing values\n",
    "sales_df = sales_df.dropna(axis=0, how='any')\n",
    "\n",
    "# Display the first few rows of the DataFrame\n",
    "sales_df.head()"
   ],
   "id": "9bb3b09cb72ec5bc",
   "outputs": [
    {
     "data": {
      "text/plain": [
       "                    date_time                      menu_item add_ons  \\\n",
       "0  2021-07-11 11:56:58.080954                    Apple Juice      []   \n",
       "1  2021-07-11 12:02:45.404474            TEXAN COUSIN BURGER      []   \n",
       "2  2021-07-11 12:08:06.402440  BLT (bacon, lettuce & tomato)      []   \n",
       "3  2021-07-11 12:08:58.342232                  BIG BREAKFAST      []   \n",
       "4  2021-07-11 12:14:47.526805                          Mocha      []   \n",
       "\n",
       "   add_ons_price  \n",
       "0            0.0  \n",
       "1            0.0  \n",
       "2            0.0  \n",
       "3            0.0  \n",
       "4            0.0  "
      ],
      "text/html": [
       "<div>\n",
       "<style scoped>\n",
       "    .dataframe tbody tr th:only-of-type {\n",
       "        vertical-align: middle;\n",
       "    }\n",
       "\n",
       "    .dataframe tbody tr th {\n",
       "        vertical-align: top;\n",
       "    }\n",
       "\n",
       "    .dataframe thead th {\n",
       "        text-align: right;\n",
       "    }\n",
       "</style>\n",
       "<table border=\"1\" class=\"dataframe\">\n",
       "  <thead>\n",
       "    <tr style=\"text-align: right;\">\n",
       "      <th></th>\n",
       "      <th>date_time</th>\n",
       "      <th>menu_item</th>\n",
       "      <th>add_ons</th>\n",
       "      <th>add_ons_price</th>\n",
       "    </tr>\n",
       "  </thead>\n",
       "  <tbody>\n",
       "    <tr>\n",
       "      <th>0</th>\n",
       "      <td>2021-07-11 11:56:58.080954</td>\n",
       "      <td>Apple Juice</td>\n",
       "      <td>[]</td>\n",
       "      <td>0.0</td>\n",
       "    </tr>\n",
       "    <tr>\n",
       "      <th>1</th>\n",
       "      <td>2021-07-11 12:02:45.404474</td>\n",
       "      <td>TEXAN COUSIN BURGER</td>\n",
       "      <td>[]</td>\n",
       "      <td>0.0</td>\n",
       "    </tr>\n",
       "    <tr>\n",
       "      <th>2</th>\n",
       "      <td>2021-07-11 12:08:06.402440</td>\n",
       "      <td>BLT (bacon, lettuce &amp; tomato)</td>\n",
       "      <td>[]</td>\n",
       "      <td>0.0</td>\n",
       "    </tr>\n",
       "    <tr>\n",
       "      <th>3</th>\n",
       "      <td>2021-07-11 12:08:58.342232</td>\n",
       "      <td>BIG BREAKFAST</td>\n",
       "      <td>[]</td>\n",
       "      <td>0.0</td>\n",
       "    </tr>\n",
       "    <tr>\n",
       "      <th>4</th>\n",
       "      <td>2021-07-11 12:14:47.526805</td>\n",
       "      <td>Mocha</td>\n",
       "      <td>[]</td>\n",
       "      <td>0.0</td>\n",
       "    </tr>\n",
       "  </tbody>\n",
       "</table>\n",
       "</div>"
      ]
     },
     "execution_count": 15,
     "metadata": {},
     "output_type": "execute_result"
    }
   ],
   "execution_count": 15
  },
  {
   "metadata": {
    "ExecuteTime": {
     "end_time": "2024-06-25T05:22:11.821845Z",
     "start_time": "2024-06-25T05:22:11.809499Z"
    }
   },
   "cell_type": "code",
   "source": [
    "# Merge sales data with menu data using 'menu_name' and 'item_name'\n",
    "merged_de = (pd.merge(menu_df, sales_df, left_on='menu_item', right_on='menu_item', how='inner'))\n",
    "\n",
    "merged_df.dropna(axis=0, how='any')\n",
    "\n",
    "# # Convert 'date_time' column to datetime\n",
    "# merged_df[\"date_time\"] = pd.to_datetime(merged_df[\"date_time\"])\n",
    "# \n",
    "# # Sort the dataframe\n",
    "# merged_df = merged_df.sort_values(by='date_time', ascending=True).reset_index()\n",
    "# \n",
    "# # Get date out of 'date_time'\n",
    "# merged_df[\"date\"] = merged_df[\"date_time\"].dt.strftime(\"%Y-%m-%d\")\n",
    "# \n",
    "# # Get time out of 'date_time'\n",
    "# merged_df[\"time\"] = merged_df[\"date_time\"].dt.strftime(\"%H:%M\")\n",
    "# \n",
    "# # Drop the 'date_time' column as we extract date and time out of it.\n",
    "# merged_df = merged_df.drop(columns=[\"date_time\"])\n",
    "\n",
    "merged_df.head(20)"
   ],
   "id": "5ee7073d15ba2321",
   "outputs": [
    {
     "ename": "KeyError",
     "evalue": "'menu_name'",
     "output_type": "error",
     "traceback": [
      "\u001B[0;31m---------------------------------------------------------------------------\u001B[0m",
      "\u001B[0;31mKeyError\u001B[0m                                  Traceback (most recent call last)",
      "\u001B[0;32m/var/folders/p7/3v1qnlnx3b3gh19zsy8hhcw00000gn/T/ipykernel_13086/1691802352.py\u001B[0m in \u001B[0;36m?\u001B[0;34m()\u001B[0m\n\u001B[1;32m      1\u001B[0m \u001B[0;31m# Merge sales data with menu data using 'menu_name' and 'item_name'\u001B[0m\u001B[0;34m\u001B[0m\u001B[0;34m\u001B[0m\u001B[0m\n\u001B[0;32m----> 2\u001B[0;31m \u001B[0mmerged_df\u001B[0m \u001B[0;34m=\u001B[0m \u001B[0;34m(\u001B[0m\u001B[0mpd\u001B[0m\u001B[0;34m.\u001B[0m\u001B[0mmerge\u001B[0m\u001B[0;34m(\u001B[0m\u001B[0mmenu_df\u001B[0m\u001B[0;34m,\u001B[0m \u001B[0msales_df\u001B[0m\u001B[0;34m,\u001B[0m \u001B[0mleft_on\u001B[0m\u001B[0;34m=\u001B[0m\u001B[0;34m'menu_name'\u001B[0m\u001B[0;34m,\u001B[0m \u001B[0mright_on\u001B[0m\u001B[0;34m=\u001B[0m\u001B[0;34m'menu_name'\u001B[0m\u001B[0;34m,\u001B[0m \u001B[0mhow\u001B[0m\u001B[0;34m=\u001B[0m\u001B[0;34m'inner'\u001B[0m\u001B[0;34m)\u001B[0m\u001B[0;34m)\u001B[0m\u001B[0;34m\u001B[0m\u001B[0;34m\u001B[0m\u001B[0m\n\u001B[0m\u001B[1;32m      3\u001B[0m \u001B[0;34m\u001B[0m\u001B[0m\n\u001B[1;32m      4\u001B[0m \u001B[0mmerged_df\u001B[0m\u001B[0;34m.\u001B[0m\u001B[0mdropna\u001B[0m\u001B[0;34m(\u001B[0m\u001B[0maxis\u001B[0m\u001B[0;34m=\u001B[0m\u001B[0;36m0\u001B[0m\u001B[0;34m,\u001B[0m \u001B[0mhow\u001B[0m\u001B[0;34m=\u001B[0m\u001B[0;34m'any'\u001B[0m\u001B[0;34m)\u001B[0m\u001B[0;34m\u001B[0m\u001B[0;34m\u001B[0m\u001B[0m\n\u001B[1;32m      5\u001B[0m \u001B[0;34m\u001B[0m\u001B[0m\n",
      "\u001B[0;32m/opt/anaconda3/lib/python3.11/site-packages/pandas/core/reshape/merge.py\u001B[0m in \u001B[0;36m?\u001B[0;34m(left, right, how, on, left_on, right_on, left_index, right_index, sort, suffixes, copy, indicator, validate)\u001B[0m\n\u001B[1;32m    165\u001B[0m             \u001B[0mvalidate\u001B[0m\u001B[0;34m=\u001B[0m\u001B[0mvalidate\u001B[0m\u001B[0;34m,\u001B[0m\u001B[0;34m\u001B[0m\u001B[0;34m\u001B[0m\u001B[0m\n\u001B[1;32m    166\u001B[0m             \u001B[0mcopy\u001B[0m\u001B[0;34m=\u001B[0m\u001B[0mcopy\u001B[0m\u001B[0;34m,\u001B[0m\u001B[0;34m\u001B[0m\u001B[0;34m\u001B[0m\u001B[0m\n\u001B[1;32m    167\u001B[0m         )\n\u001B[1;32m    168\u001B[0m     \u001B[0;32melse\u001B[0m\u001B[0;34m:\u001B[0m\u001B[0;34m\u001B[0m\u001B[0;34m\u001B[0m\u001B[0m\n\u001B[0;32m--> 169\u001B[0;31m         op = _MergeOperation(\n\u001B[0m\u001B[1;32m    170\u001B[0m             \u001B[0mleft_df\u001B[0m\u001B[0;34m,\u001B[0m\u001B[0;34m\u001B[0m\u001B[0;34m\u001B[0m\u001B[0m\n\u001B[1;32m    171\u001B[0m             \u001B[0mright_df\u001B[0m\u001B[0;34m,\u001B[0m\u001B[0;34m\u001B[0m\u001B[0;34m\u001B[0m\u001B[0m\n\u001B[1;32m    172\u001B[0m             \u001B[0mhow\u001B[0m\u001B[0;34m=\u001B[0m\u001B[0mhow\u001B[0m\u001B[0;34m,\u001B[0m\u001B[0;34m\u001B[0m\u001B[0;34m\u001B[0m\u001B[0m\n",
      "\u001B[0;32m/opt/anaconda3/lib/python3.11/site-packages/pandas/core/reshape/merge.py\u001B[0m in \u001B[0;36m?\u001B[0;34m(self, left, right, how, on, left_on, right_on, left_index, right_index, sort, suffixes, indicator, validate)\u001B[0m\n\u001B[1;32m    787\u001B[0m             \u001B[0mself\u001B[0m\u001B[0;34m.\u001B[0m\u001B[0mright_join_keys\u001B[0m\u001B[0;34m,\u001B[0m\u001B[0;34m\u001B[0m\u001B[0;34m\u001B[0m\u001B[0m\n\u001B[1;32m    788\u001B[0m             \u001B[0mself\u001B[0m\u001B[0;34m.\u001B[0m\u001B[0mjoin_names\u001B[0m\u001B[0;34m,\u001B[0m\u001B[0;34m\u001B[0m\u001B[0;34m\u001B[0m\u001B[0m\n\u001B[1;32m    789\u001B[0m             \u001B[0mleft_drop\u001B[0m\u001B[0;34m,\u001B[0m\u001B[0;34m\u001B[0m\u001B[0;34m\u001B[0m\u001B[0m\n\u001B[1;32m    790\u001B[0m             \u001B[0mright_drop\u001B[0m\u001B[0;34m,\u001B[0m\u001B[0;34m\u001B[0m\u001B[0;34m\u001B[0m\u001B[0m\n\u001B[0;32m--> 791\u001B[0;31m         ) = self._get_merge_keys()\n\u001B[0m\u001B[1;32m    792\u001B[0m \u001B[0;34m\u001B[0m\u001B[0m\n\u001B[1;32m    793\u001B[0m         \u001B[0;32mif\u001B[0m \u001B[0mleft_drop\u001B[0m\u001B[0;34m:\u001B[0m\u001B[0;34m\u001B[0m\u001B[0;34m\u001B[0m\u001B[0m\n\u001B[1;32m    794\u001B[0m             \u001B[0mself\u001B[0m\u001B[0;34m.\u001B[0m\u001B[0mleft\u001B[0m \u001B[0;34m=\u001B[0m \u001B[0mself\u001B[0m\u001B[0;34m.\u001B[0m\u001B[0mleft\u001B[0m\u001B[0;34m.\u001B[0m\u001B[0m_drop_labels_or_levels\u001B[0m\u001B[0;34m(\u001B[0m\u001B[0mleft_drop\u001B[0m\u001B[0;34m)\u001B[0m\u001B[0;34m\u001B[0m\u001B[0;34m\u001B[0m\u001B[0m\n",
      "\u001B[0;32m/opt/anaconda3/lib/python3.11/site-packages/pandas/core/reshape/merge.py\u001B[0m in \u001B[0;36m?\u001B[0;34m(self)\u001B[0m\n\u001B[1;32m   1265\u001B[0m                         \u001B[0;31m# Then we're either Hashable or a wrong-length arraylike,\u001B[0m\u001B[0;34m\u001B[0m\u001B[0;34m\u001B[0m\u001B[0m\n\u001B[1;32m   1266\u001B[0m                         \u001B[0;31m#  the latter of which will raise\u001B[0m\u001B[0;34m\u001B[0m\u001B[0;34m\u001B[0m\u001B[0m\n\u001B[1;32m   1267\u001B[0m                         \u001B[0mrk\u001B[0m \u001B[0;34m=\u001B[0m \u001B[0mcast\u001B[0m\u001B[0;34m(\u001B[0m\u001B[0mHashable\u001B[0m\u001B[0;34m,\u001B[0m \u001B[0mrk\u001B[0m\u001B[0;34m)\u001B[0m\u001B[0;34m\u001B[0m\u001B[0;34m\u001B[0m\u001B[0m\n\u001B[1;32m   1268\u001B[0m                         \u001B[0;32mif\u001B[0m \u001B[0mrk\u001B[0m \u001B[0;32mis\u001B[0m \u001B[0;32mnot\u001B[0m \u001B[0;32mNone\u001B[0m\u001B[0;34m:\u001B[0m\u001B[0;34m\u001B[0m\u001B[0;34m\u001B[0m\u001B[0m\n\u001B[0;32m-> 1269\u001B[0;31m                             \u001B[0mright_keys\u001B[0m\u001B[0;34m.\u001B[0m\u001B[0mappend\u001B[0m\u001B[0;34m(\u001B[0m\u001B[0mright\u001B[0m\u001B[0;34m.\u001B[0m\u001B[0m_get_label_or_level_values\u001B[0m\u001B[0;34m(\u001B[0m\u001B[0mrk\u001B[0m\u001B[0;34m)\u001B[0m\u001B[0;34m)\u001B[0m\u001B[0;34m\u001B[0m\u001B[0;34m\u001B[0m\u001B[0m\n\u001B[0m\u001B[1;32m   1270\u001B[0m                         \u001B[0;32melse\u001B[0m\u001B[0;34m:\u001B[0m\u001B[0;34m\u001B[0m\u001B[0;34m\u001B[0m\u001B[0m\n\u001B[1;32m   1271\u001B[0m                             \u001B[0;31m# work-around for merge_asof(right_index=True)\u001B[0m\u001B[0;34m\u001B[0m\u001B[0;34m\u001B[0m\u001B[0m\n\u001B[1;32m   1272\u001B[0m                             \u001B[0mright_keys\u001B[0m\u001B[0;34m.\u001B[0m\u001B[0mappend\u001B[0m\u001B[0;34m(\u001B[0m\u001B[0mright\u001B[0m\u001B[0;34m.\u001B[0m\u001B[0mindex\u001B[0m\u001B[0;34m.\u001B[0m\u001B[0m_values\u001B[0m\u001B[0;34m)\u001B[0m\u001B[0;34m\u001B[0m\u001B[0;34m\u001B[0m\u001B[0m\n",
      "\u001B[0;32m/opt/anaconda3/lib/python3.11/site-packages/pandas/core/generic.py\u001B[0m in \u001B[0;36m?\u001B[0;34m(self, key, axis)\u001B[0m\n\u001B[1;32m   1840\u001B[0m             \u001B[0mvalues\u001B[0m \u001B[0;34m=\u001B[0m \u001B[0mself\u001B[0m\u001B[0;34m.\u001B[0m\u001B[0mxs\u001B[0m\u001B[0;34m(\u001B[0m\u001B[0mkey\u001B[0m\u001B[0;34m,\u001B[0m \u001B[0maxis\u001B[0m\u001B[0;34m=\u001B[0m\u001B[0mother_axes\u001B[0m\u001B[0;34m[\u001B[0m\u001B[0;36m0\u001B[0m\u001B[0;34m]\u001B[0m\u001B[0;34m)\u001B[0m\u001B[0;34m.\u001B[0m\u001B[0m_values\u001B[0m\u001B[0;34m\u001B[0m\u001B[0;34m\u001B[0m\u001B[0m\n\u001B[1;32m   1841\u001B[0m         \u001B[0;32melif\u001B[0m \u001B[0mself\u001B[0m\u001B[0;34m.\u001B[0m\u001B[0m_is_level_reference\u001B[0m\u001B[0;34m(\u001B[0m\u001B[0mkey\u001B[0m\u001B[0;34m,\u001B[0m \u001B[0maxis\u001B[0m\u001B[0;34m=\u001B[0m\u001B[0maxis\u001B[0m\u001B[0;34m)\u001B[0m\u001B[0;34m:\u001B[0m\u001B[0;34m\u001B[0m\u001B[0;34m\u001B[0m\u001B[0m\n\u001B[1;32m   1842\u001B[0m             \u001B[0mvalues\u001B[0m \u001B[0;34m=\u001B[0m \u001B[0mself\u001B[0m\u001B[0;34m.\u001B[0m\u001B[0maxes\u001B[0m\u001B[0;34m[\u001B[0m\u001B[0maxis\u001B[0m\u001B[0;34m]\u001B[0m\u001B[0;34m.\u001B[0m\u001B[0mget_level_values\u001B[0m\u001B[0;34m(\u001B[0m\u001B[0mkey\u001B[0m\u001B[0;34m)\u001B[0m\u001B[0;34m.\u001B[0m\u001B[0m_values\u001B[0m\u001B[0;34m\u001B[0m\u001B[0;34m\u001B[0m\u001B[0m\n\u001B[1;32m   1843\u001B[0m         \u001B[0;32melse\u001B[0m\u001B[0;34m:\u001B[0m\u001B[0;34m\u001B[0m\u001B[0;34m\u001B[0m\u001B[0m\n\u001B[0;32m-> 1844\u001B[0;31m             \u001B[0;32mraise\u001B[0m \u001B[0mKeyError\u001B[0m\u001B[0;34m(\u001B[0m\u001B[0mkey\u001B[0m\u001B[0;34m)\u001B[0m\u001B[0;34m\u001B[0m\u001B[0;34m\u001B[0m\u001B[0m\n\u001B[0m\u001B[1;32m   1845\u001B[0m \u001B[0;34m\u001B[0m\u001B[0m\n\u001B[1;32m   1846\u001B[0m         \u001B[0;31m# Check for duplicates\u001B[0m\u001B[0;34m\u001B[0m\u001B[0;34m\u001B[0m\u001B[0m\n\u001B[1;32m   1847\u001B[0m         \u001B[0;32mif\u001B[0m \u001B[0mvalues\u001B[0m\u001B[0;34m.\u001B[0m\u001B[0mndim\u001B[0m \u001B[0;34m>\u001B[0m \u001B[0;36m1\u001B[0m\u001B[0;34m:\u001B[0m\u001B[0;34m\u001B[0m\u001B[0;34m\u001B[0m\u001B[0m\n",
      "\u001B[0;31mKeyError\u001B[0m: 'menu_name'"
     ]
    }
   ],
   "execution_count": 16
  },
  {
   "metadata": {},
   "cell_type": "code",
   "source": "",
   "id": "e17dd2a582cbee66",
   "outputs": [],
   "execution_count": null
  }
 ],
 "metadata": {
  "kernelspec": {
   "display_name": "Python 3",
   "language": "python",
   "name": "python3"
  },
  "language_info": {
   "codemirror_mode": {
    "name": "ipython",
    "version": 2
   },
   "file_extension": ".py",
   "mimetype": "text/x-python",
   "name": "python",
   "nbconvert_exporter": "python",
   "pygments_lexer": "ipython2",
   "version": "2.7.6"
  }
 },
 "nbformat": 4,
 "nbformat_minor": 5
}
